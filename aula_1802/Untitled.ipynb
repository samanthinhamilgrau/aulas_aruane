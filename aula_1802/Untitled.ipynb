{
 "cells": [
  {
   "cell_type": "markdown",
   "id": "7f1bbf3c-b399-469a-bb5d-4736597cca67",
   "metadata": {},
   "source": [
    "**Estrutura de repetição-WHILE**"
   ]
  },
  {
   "cell_type": "code",
   "execution_count": 3,
   "id": "34e4e872-1839-4062-874a-4d671a0b68a0",
   "metadata": {},
   "outputs": [
    {
     "name": "stdout",
     "output_type": "stream",
     "text": [
      "1\n",
      "2\n",
      "3\n",
      "4\n",
      "5\n"
     ]
    }
   ],
   "source": [
    "numero = 1\n",
    "while numero < 6:\n",
    "    print(numero)\n",
    "    numero = numero + 1"
   ]
  },
  {
   "cell_type": "markdown",
   "id": "3c9473fe-91aa-419c-a704-fbaaf3b3ebe8",
   "metadata": {},
   "source": [
    "numero = 5\n",
    "while numero > 0:\n",
    "    print(numero)\n",
    "    numero = numero -1"
   ]
  },
  {
   "cell_type": "code",
   "execution_count": 8,
   "id": "79026ae6-df56-4995-b9d6-597de686b94a",
   "metadata": {},
   "outputs": [
    {
     "name": "stdout",
     "output_type": "stream",
     "text": [
      "15\n"
     ]
    }
   ],
   "source": [
    "numero = 1\n",
    "total = 0\n",
    "\n",
    "while numero < 6:\n",
    "    total =total + numero\n",
    "    numero = numero + 1\n",
    "\n",
    "print(total)"
   ]
  },
  {
   "cell_type": "code",
   "execution_count": 10,
   "id": "5d5dd25f-0b0f-4bea-97a2-744972bb955d",
   "metadata": {},
   "outputs": [
    {
     "name": "stdin",
     "output_type": "stream",
     "text": [
      "Digite um numero entre: 50\n",
      "Digite um numero entre: 8\n"
     ]
    }
   ],
   "source": [
    "numero = 12\n",
    "\n",
    "while numero < 1 or numero > 10:\n",
    "    numero = int(input(\"Digite um numero entre:\"))\n",
    "    "
   ]
  },
  {
   "cell_type": "markdown",
   "id": "5e019676-1dcd-494d-8d8a-3b86d9521cc5",
   "metadata": {},
   "source": [
    "**MATRIZES**"
   ]
  },
  {
   "cell_type": "code",
   "execution_count": 14,
   "id": "49699bc3-6861-4b9a-be7d-fc59ca36d29f",
   "metadata": {},
   "outputs": [],
   "source": [
    "import numpy as np"
   ]
  },
  {
   "cell_type": "code",
   "execution_count": 15,
   "id": "3a25fb66-5de9-4c19-8b35-bab1fcbb63ca",
   "metadata": {},
   "outputs": [
    {
     "data": {
      "text/plain": [
       "array([[2, 3, 1],\n",
       "       [4, 5, 6]])"
      ]
     },
     "execution_count": 15,
     "metadata": {},
     "output_type": "execute_result"
    }
   ],
   "source": [
    "matriz=np.array([[2,3,1],[4,5,6]])\n",
    "\n",
    "matriz"
   ]
  },
  {
   "cell_type": "code",
   "execution_count": 16,
   "id": "4755a27f-14bc-47e6-9ee5-78425f5c9d38",
   "metadata": {},
   "outputs": [
    {
     "data": {
      "text/plain": [
       "(2, 3)"
      ]
     },
     "execution_count": 16,
     "metadata": {},
     "output_type": "execute_result"
    }
   ],
   "source": [
    "#Mostra quantas linhas e quantas colunas a matriz tem\n",
    "matriz.shape"
   ]
  },
  {
   "cell_type": "code",
   "execution_count": 25,
   "id": "b13715e2-e4b0-4773-9b91-733605a7d88d",
   "metadata": {},
   "outputs": [
    {
     "data": {
      "text/plain": [
       "array([4, 5, 6])"
      ]
     },
     "execution_count": 25,
     "metadata": {},
     "output_type": "execute_result"
    }
   ],
   "source": [
    "matriz[1]"
   ]
  },
  {
   "cell_type": "code",
   "execution_count": 26,
   "id": "0c0438b5-dc5e-479a-884c-020bd3b5f288",
   "metadata": {},
   "outputs": [
    {
     "data": {
      "text/plain": [
       "1"
      ]
     },
     "execution_count": 26,
     "metadata": {},
     "output_type": "execute_result"
    }
   ],
   "source": [
    "matriz[1]"
   ]
  },
  {
   "cell_type": "code",
   "execution_count": 18,
   "id": "75ca6c13-31ea-4484-abf8-d638d58add73",
   "metadata": {},
   "outputs": [
    {
     "name": "stdout",
     "output_type": "stream",
     "text": [
      "2\n",
      "3\n",
      "1\n",
      "4\n",
      "5\n",
      "6\n"
     ]
    }
   ],
   "source": [
    "for linha in range(matriz.shape[0]):\n",
    "    for coluna in range(matriz.shape[1]):\n",
    "        print(matriz[linha,coluna])"
   ]
  },
  {
   "cell_type": "code",
   "execution_count": 17,
   "id": "b2a95ac7-d477-44a0-af9b-40a0d31521d9",
   "metadata": {},
   "outputs": [
    {
     "name": "stdout",
     "output_type": "stream",
     "text": [
      "2\n",
      "4\n",
      "3\n",
      "5\n",
      "1\n",
      "6\n"
     ]
    }
   ],
   "source": [
    "for coluna in range(matriz.shape[1]):\n",
    "    for linha in range(matriz.shape[0]):\n",
    "        print(matriz[linha][coluna])"
   ]
  },
  {
   "cell_type": "markdown",
   "id": "eaa75633-585c-45f3-a242-18a3a3cd5400",
   "metadata": {},
   "source": [
    "**Exercicio-Matriz**"
   ]
  },
  {
   "cell_type": "code",
   "execution_count": null,
   "id": "d28ee584-5519-4725-9f14-89fc09132ad6",
   "metadata": {},
   "outputs": [],
   "source": []
  }
 ],
 "metadata": {
  "kernelspec": {
   "display_name": "Python 3 (ipykernel)",
   "language": "python",
   "name": "python3"
  },
  "language_info": {
   "codemirror_mode": {
    "name": "ipython",
    "version": 3
   },
   "file_extension": ".py",
   "mimetype": "text/x-python",
   "name": "python",
   "nbconvert_exporter": "python",
   "pygments_lexer": "ipython3",
   "version": "3.12.7"
  }
 },
 "nbformat": 4,
 "nbformat_minor": 5
}
