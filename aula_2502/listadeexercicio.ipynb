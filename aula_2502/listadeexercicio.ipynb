{
 "cells": [
  {
   "cell_type": "markdown",
   "id": "cdf5cb25-8f4f-4ab2-ad61-151a23437763",
   "metadata": {},
   "source": [
    "**Exercicio 1**"
   ]
  },
  {
   "cell_type": "code",
   "execution_count": 1,
   "id": "5f2f20bc-2f51-438c-ad2d-fa87caaaea10",
   "metadata": {},
   "outputs": [
    {
     "name": "stdin",
     "output_type": "stream",
     "text": [
      "Qaul seu nome? Samantha\n"
     ]
    },
    {
     "name": "stdout",
     "output_type": "stream",
     "text": [
      "Bem vindo(a) Samantha\n"
     ]
    }
   ],
   "source": [
    "nome = input(\"Qaul seu nome?\")\n",
    "print(f\"Bem vindo(a) {nome}\")"
   ]
  },
  {
   "cell_type": "markdown",
   "id": "b94096a7-f63b-4e7b-a550-d84945e8d084",
   "metadata": {},
   "source": [
    "**Exercicio 2**"
   ]
  },
  {
   "cell_type": "code",
   "execution_count": 3,
   "id": "d4a57e64-b901-4005-b2df-7e7814ce4545",
   "metadata": {},
   "outputs": [
    {
     "name": "stdin",
     "output_type": "stream",
     "text": [
      "Insira a  primeira palavra: Ola\n",
      "Insira a  segunda palavra: tudo bom\n"
     ]
    },
    {
     "name": "stdout",
     "output_type": "stream",
     "text": [
      "Palavras juntas: Ola tudo bom\n"
     ]
    }
   ],
   "source": [
    "palavra1 = input(\"Insira a  primeira palavra:\")\n",
    "palavra2 = input(\"Insira a  segunda palavra:\")\n",
    "\n",
    "resultado = palavra1 + \" \" + palavra2\n",
    "\n",
    "print(f\"Palavras juntas: {resultado}\")"
   ]
  },
  {
   "cell_type": "markdown",
   "id": "ae6c28fa-f9da-42a2-87f6-c4d0e1687d1b",
   "metadata": {},
   "source": [
    "**Exercicio 3**"
   ]
  },
  {
   "cell_type": "code",
   "execution_count": 4,
   "id": "904313e6-c65c-4dfb-99d1-31222240a128",
   "metadata": {},
   "outputs": [
    {
     "name": "stdin",
     "output_type": "stream",
     "text": [
      "Insira uma frase: Tudo posso naquele que me fortalece\n"
     ]
    },
    {
     "name": "stdout",
     "output_type": "stream",
     "text": [
      "Qauantidade de palavras: 6\n"
     ]
    }
   ],
   "source": [
    "frase = input(\"Insira uma frase:\")\n",
    "qtdddepalavra = len(frase.split())\n",
    "\n",
    "print(f\"Qauantidade de palavras: {qtdddepalavra}\")"
   ]
  },
  {
   "cell_type": "markdown",
   "id": "aae30a61-e5bd-433a-8364-051bb9efdd5f",
   "metadata": {},
   "source": [
    "**Exercicio 4**"
   ]
  },
  {
   "cell_type": "code",
   "execution_count": 5,
   "id": "1c1e5c2b-bc2c-4091-a2bd-2c62e037da92",
   "metadata": {},
   "outputs": [
    {
     "name": "stdin",
     "output_type": "stream",
     "text": [
      "Insira o primerio numero: 5\n",
      "Insira o segundo numero: 5\n"
     ]
    },
    {
     "name": "stdout",
     "output_type": "stream",
     "text": [
      "Soma dos numero: 10\n"
     ]
    }
   ],
   "source": [
    "numero1 = int(input(\"Insira o primerio numero:\"))\n",
    "numero2 = int(input(\"Insira o segundo numero:\"))\n",
    "\n",
    "soma = numero1 + numero2\n",
    "\n",
    "\n",
    "print(f\"Soma dos numero: {soma}\")"
   ]
  },
  {
   "cell_type": "markdown",
   "id": "a1386648-8270-4e47-badb-10cc47f056fa",
   "metadata": {},
   "source": [
    "**Exercicio 5**"
   ]
  },
  {
   "cell_type": "code",
   "execution_count": 12,
   "id": "2676053f-a5a6-4177-877b-933586914a2b",
   "metadata": {},
   "outputs": [
    {
     "name": "stdin",
     "output_type": "stream",
     "text": [
      "Insira sua primeira nota: 6\n",
      "Insira sua segunda nota: 7\n",
      "Insira sua terceira nota: 5\n"
     ]
    },
    {
     "name": "stdout",
     "output_type": "stream",
     "text": [
      "Sua media é: 6.0\n"
     ]
    }
   ],
   "source": [
    "nota1 = float(input(\"Insira sua primeira nota:\"))\n",
    "nota2 = float(input(\"Insira sua segunda nota:\"))\n",
    "nota3 = float(input(\"Insira sua terceira nota:\"))\n",
    "\n",
    "soma = nota1 + nota2 + nota3\n",
    "media = soma  / 3 \n",
    "\n",
    "print(f\"Sua media é: {media}\")"
   ]
  },
  {
   "cell_type": "markdown",
   "id": "51a0254b-ddb6-45fe-860a-29daac41f671",
   "metadata": {},
   "source": [
    "**Exercicio 6**"
   ]
  },
  {
   "cell_type": "code",
   "execution_count": 14,
   "id": "23417b60-dfe0-4bf2-abb7-5e1fd226c388",
   "metadata": {},
   "outputs": [
    {
     "name": "stdin",
     "output_type": "stream",
     "text": [
      "Insira o primeiro numero: 4\n",
      "Insira o segundo numero: 8\n",
      "Insira o terceiro numero: 3\n"
     ]
    },
    {
     "name": "stdout",
     "output_type": "stream",
     "text": [
      "Esse é o numero maior 8, e esse é o menor numero3 da sua lista\n"
     ]
    }
   ],
   "source": [
    "number1 = int(input(\"Insira o primeiro numero:\"))\n",
    "number2 = int(input(\"Insira o segundo numero:\"))\n",
    "number3 = int(input(\"Insira o terceiro numero:\"))\n",
    "\n",
    "maior = max(number1, number2, number3 )\n",
    "menor = min(number1, number2, number3 )\n",
    "\n",
    "print(f\"Esse é o numero maior: {maior}, e esse é o menor numero: {menor}, da sua lista\")"
   ]
  },
  {
   "cell_type": "markdown",
   "id": "8af491bf-22bc-4672-a945-eb516afbc902",
   "metadata": {},
   "source": [
    "**Exercicio 6 de outro jeito**"
   ]
  },
  {
   "cell_type": "code",
   "execution_count": 15,
   "id": "f7c7fe3d-1d0a-48a2-877d-5fbf9f5651f0",
   "metadata": {},
   "outputs": [
    {
     "name": "stdin",
     "output_type": "stream",
     "text": [
      "Digite o primeiro número:  3\n",
      "Digite o segundo número:  7\n",
      "Digite o terceiro número:  8\n"
     ]
    },
    {
     "name": "stdout",
     "output_type": "stream",
     "text": [
      "Maior número: 8\n",
      "Menor número: 3\n"
     ]
    }
   ],
   "source": [
    "num1 = int(input(\"Digite o primeiro número: \"))\n",
    "num2 = int(input(\"Digite o segundo número: \"))\n",
    "num3 = int(input(\"Digite o terceiro número: \"))\n",
    "\n",
    "maior = num1\n",
    "menor = num1\n",
    "\n",
    "if num2 > maior:\n",
    "    maior = num2\n",
    "if num3 > maior:\n",
    "    maior = num3\n",
    "\n",
    "if num2 < menor:\n",
    "    menor = num2\n",
    "if num3 < menor:\n",
    "    menor = num3\n",
    "\n",
    "print(\"Maior número:\", maior)\n",
    "print(\"Menor número:\", menor)"
   ]
  },
  {
   "cell_type": "markdown",
   "id": "37f7d2bb-ddee-4442-8b77-1f5e5b33c09d",
   "metadata": {},
   "source": [
    "**Exercicio 7**"
   ]
  },
  {
   "cell_type": "code",
   "execution_count": 19,
   "id": "bb4bec34-dc3d-40aa-bc74-7ac23091d015",
   "metadata": {},
   "outputs": [
    {
     "name": "stdin",
     "output_type": "stream",
     "text": [
      "Insiria um número: 10\n"
     ]
    },
    {
     "name": "stdout",
     "output_type": "stream",
     "text": [
      "Esse número é menor que 100\n"
     ]
    }
   ],
   "source": [
    "x = int(input(\"Insiria um número:\"))\n",
    "\n",
    "if x<100:\n",
    "    print(\"Esse número é menor que 100\")\n",
    "elif x>100:\n",
    "    print(\"Esse número é maior que 100\")\n",
    "elif x==100:\n",
    "    print(\"Esse número é o 100\")"
   ]
  },
  {
   "cell_type": "markdown",
   "id": "153e2024-e667-4aee-9a0a-32249b567b92",
   "metadata": {},
   "source": [
    "**Exercicio 8**"
   ]
  },
  {
   "cell_type": "code",
   "execution_count": 24,
   "id": "b7913692-6d9d-42fe-b11d-3998fff47d2a",
   "metadata": {},
   "outputs": [
    {
     "name": "stdin",
     "output_type": "stream",
     "text": [
      "Insira um numero: 15\n",
      "Insira um outro numero: 20\n"
     ]
    },
    {
     "name": "stdout",
     "output_type": "stream",
     "text": [
      "O segundo valor é o maior\n"
     ]
    }
   ],
   "source": [
    "x = int(input(\"Insira um numero:\"))\n",
    "y = int(input(\"Insira um outro numero:\"))\n",
    "\n",
    "if x == y:\n",
    "    print(\"Esses valores são iguais\")\n",
    "elif x>y:\n",
    "    print(\"O primeiro valor é o maior\")\n",
    "elif x<y:\n",
    "    print(\"O segundo valor é o maior\")"
   ]
  },
  {
   "cell_type": "markdown",
   "id": "90fcadd1-b3b4-483b-b579-1c9ddbbf217f",
   "metadata": {},
   "source": [
    "**Exercicio 9**"
   ]
  },
  {
   "cell_type": "code",
   "execution_count": 33,
   "id": "30b99931-1a52-46ee-91da-600f8d8773a5",
   "metadata": {},
   "outputs": [
    {
     "name": "stdin",
     "output_type": "stream",
     "text": [
      "Digite o primeiro lado:  10\n",
      "Digite o segundo lado:  10\n",
      "Digite o terceiro lado:  20\n"
     ]
    },
    {
     "name": "stdout",
     "output_type": "stream",
     "text": [
      "Os valores informados podem formar um triângulo.\n"
     ]
    }
   ],
   "source": [
    "lado1 = float(input(\"Digite o primeiro lado: \"))\n",
    "lado2 = float(input(\"Digite o segundo lado: \"))\n",
    "lado3 = float(input(\"Digite o terceiro lado: \"))\n",
    "\n",
    "if ((lado1 + lado2) > lado3) or ((lado1 + lado3) > lado2) or ((lado2 + lado3) > lado1):\n",
    "    print(\"Os valores informados podem formar um triângulo.\")\n",
    "else:\n",
    "    print(\"Os valores informados NÃO podem formar um triângulo.\")"
   ]
  },
  {
   "cell_type": "markdown",
   "id": "5958d2e7-0e53-4af2-915e-6f86110185f1",
   "metadata": {},
   "source": [
    "**Exercicio 10**"
   ]
  },
  {
   "cell_type": "code",
   "execution_count": 36,
   "id": "bf1f8488-fb0d-4c6b-a432-0cdabe019c3b",
   "metadata": {},
   "outputs": [
    {
     "name": "stdin",
     "output_type": "stream",
     "text": [
      "Insira o valor que voce quer descobrir a tabuada: 2\n"
     ]
    },
    {
     "name": "stdout",
     "output_type": "stream",
     "text": [
      "Tabuada do numeoro2:\n",
      "2 x 1 = 2\n",
      "2 x 2 = 4\n",
      "2 x 3 = 6\n",
      "2 x 4 = 8\n",
      "2 x 5 = 10\n",
      "2 x 6 = 12\n",
      "2 x 7 = 14\n",
      "2 x 8 = 16\n",
      "2 x 9 = 18\n",
      "2 x 10 = 20\n"
     ]
    }
   ],
   "source": [
    "valor = int(input(\"Insira o valor que voce quer descobrir a tabuada:\"))\n",
    "\n",
    "print(f\"Tabuada do numeoro{valor}:\")\n",
    "for i in range(1, 11):\n",
    "    print(f\"{valor} x {i} = {valor * i}\")"
   ]
  },
  {
   "cell_type": "markdown",
   "id": "9ab3e578-e466-43aa-a752-6a44bd5788b0",
   "metadata": {},
   "source": [
    "**Exercicio 11**"
   ]
  },
  {
   "cell_type": "code",
   "execution_count": 54,
   "id": "1fe85bcd-6115-4b3d-81d1-9d7229e7c9f6",
   "metadata": {},
   "outputs": [
    {
     "name": "stdin",
     "output_type": "stream",
     "text": [
      "Insira o valor inteiro e veja seus divisores positivos: 6\n"
     ]
    },
    {
     "name": "stdout",
     "output_type": "stream",
     "text": [
      "Divisores de 6:\n",
      "1\n",
      "2\n",
      "3\n",
      "6\n"
     ]
    }
   ],
   "source": [
    "value = int(input(\"Insira o valor inteiro e veja seus divisores positivos:\"))\n",
    "\n",
    "print(f\"Divisores de {value}:\")\n",
    "for i in range(1, value + 1):\n",
    "    if value % i == 0:\n",
    "        print(i)"
   ]
  },
  {
   "cell_type": "markdown",
   "id": "2d8fed89-39b2-4359-a3e3-38b8e1e0c089",
   "metadata": {},
   "source": [
    "**Exercicio 12**"
   ]
  },
  {
   "cell_type": "code",
   "execution_count": 43,
   "id": "2f78f4bf-960d-4bd8-9f1a-8fdff9277343",
   "metadata": {},
   "outputs": [
    {
     "name": "stdin",
     "output_type": "stream",
     "text": [
      "Insira um numero: 7\n"
     ]
    },
    {
     "name": "stdout",
     "output_type": "stream",
     "text": [
      "7 é um número primo.\n"
     ]
    }
   ],
   "source": [
    "number = int(input(\"Insira um numero:\"))\n",
    "\n",
    "if number > 1:\n",
    "    primo = True\n",
    "    for i in range(2, int(number ** 0.5) + 1):\n",
    "        if number % i == 0:\n",
    "            primo = False\n",
    "            break\n",
    "else:\n",
    "    primo = False\n",
    "\n",
    "if primo:\n",
    "    print(f\"{number} é um número primo.\")\n",
    "else:\n",
    "    print(f\"{number} NÃO é um número primo.\")"
   ]
  },
  {
   "cell_type": "markdown",
   "id": "02d5bc29-a006-4a48-8e8c-a59024d19d5c",
   "metadata": {},
   "source": [
    "**Exercicio 13**"
   ]
  },
  {
   "cell_type": "code",
   "execution_count": 53,
   "id": "250ec1df-dd20-4fb4-96df-c067aefd7f99",
   "metadata": {},
   "outputs": [
    {
     "name": "stdin",
     "output_type": "stream",
     "text": [
      "Insira um numero para a contagem regressiva: 10\n"
     ]
    },
    {
     "name": "stdout",
     "output_type": "stream",
     "text": [
      "10\n",
      "9\n",
      "8\n",
      "7\n",
      "6\n",
      "5\n",
      "4\n",
      "3\n",
      "2\n",
      "1\n",
      "0\n"
     ]
    }
   ],
   "source": [
    "numero = int(input(\"Insira um numero para a contagem regressiva:\"))\n",
    "\n",
    "for valor in range(numero,-1,-1):\n",
    "    print(valor)"
   ]
  },
  {
   "cell_type": "markdown",
   "id": "7d68f7e6-0314-4506-8e85-a16079e210a9",
   "metadata": {},
   "source": [
    "**Exercicio 14**"
   ]
  },
  {
   "cell_type": "code",
   "execution_count": 58,
   "id": "d6c5ea3d-749e-43b0-ad5c-0faecd996d18",
   "metadata": {},
   "outputs": [
    {
     "name": "stdin",
     "output_type": "stream",
     "text": [
      "Digite um número inteiro:  10\n"
     ]
    },
    {
     "name": "stdout",
     "output_type": "stream",
     "text": [
      "1\n",
      "2\n",
      "3\n",
      "4\n",
      "5\n",
      "6\n",
      "7\n",
      "8\n",
      "9\n",
      "10\n"
     ]
    }
   ],
   "source": [
    "numero = int(input(\"Digite um número inteiro: \"))\n",
    "\n",
    "for i in range(1, numero + 1):\n",
    "    print(i)"
   ]
  },
  {
   "cell_type": "markdown",
   "id": "5b12b6e4-b139-40fb-b2f3-008c179bc839",
   "metadata": {},
   "source": [
    "**Exercicio 15**"
   ]
  },
  {
   "cell_type": "code",
   "execution_count": 55,
   "id": "90f8ff85-084b-4feb-8c22-5473def8fe04",
   "metadata": {},
   "outputs": [
    {
     "name": "stdin",
     "output_type": "stream",
     "text": [
      "Digite um número inteiro:  10\n"
     ]
    },
    {
     "name": "stdout",
     "output_type": "stream",
     "text": [
      "O fatorial de 10 é 3628800.\n"
     ]
    }
   ],
   "source": [
    "numero = int(input(\"Digite um número inteiro: \"))\n",
    "\n",
    "fatorial = 1\n",
    "\n",
    "for i in range(1, numero + 1):\n",
    "    fatorial *= i\n",
    "print(f\"O fatorial de {numero} é {fatorial}.\")"
   ]
  },
  {
   "cell_type": "markdown",
   "id": "364856a2-8041-45ca-98ce-3787ba9019c4",
   "metadata": {},
   "source": [
    "**Exercicio 16**"
   ]
  },
  {
   "cell_type": "code",
   "execution_count": 60,
   "id": "edb57964-5392-456b-b243-2cfdb2dbbfc0",
   "metadata": {},
   "outputs": [
    {
     "name": "stdout",
     "output_type": "stream",
     "text": [
      "A terceira cor da lista é: Verde\n"
     ]
    }
   ],
   "source": [
    "cores = [\"Amarelo\", \"Azul\", \"Verde\", \"Rosa\", \"Roxo\"]\n",
    "\n",
    "print(f\"A terceira cor da lista é: {cores[2]}\")"
   ]
  },
  {
   "cell_type": "markdown",
   "id": "b092e8fd-e378-4aea-ad2a-9c362d1fbbab",
   "metadata": {},
   "source": [
    "**Exercicio 17**"
   ]
  },
  {
   "cell_type": "code",
   "execution_count": 67,
   "id": "fa9c812e-8420-478e-a2ae-8bef3f0f2af4",
   "metadata": {},
   "outputs": [
    {
     "name": "stdin",
     "output_type": "stream",
     "text": [
      "Escreva um numero:  1\n",
      "Escreva um numero:  2\n",
      "Escreva um numero:  3\n",
      "Escreva um numero:  4\n",
      "Escreva um numero:  5\n",
      "Escreva um numero:  6\n",
      "Escreva um numero:  7\n",
      "Escreva um numero:  8\n",
      "Escreva um numero:  9\n",
      "Escreva um numero:  10\n"
     ]
    },
    {
     "name": "stdout",
     "output_type": "stream",
     "text": [
      "[]\n"
     ]
    }
   ],
   "source": [
    "v = [ ]\n",
    "\n",
    "for i in range(0,10):\n",
    "    x = int(input(\"Escreva um numero: \"))\n",
    "for i in v:\n",
    "    if x == i:\n",
    "        print(\"Nao pode escrever esse numero.\")\n",
    "    else:\n",
    "        v.append(x)\n",
    "print(v)"
   ]
  }
 ],
 "metadata": {
  "kernelspec": {
   "display_name": "Python 3 (ipykernel)",
   "language": "python",
   "name": "python3"
  },
  "language_info": {
   "codemirror_mode": {
    "name": "ipython",
    "version": 3
   },
   "file_extension": ".py",
   "mimetype": "text/x-python",
   "name": "python",
   "nbconvert_exporter": "python",
   "pygments_lexer": "ipython3",
   "version": "3.12.7"
  }
 },
 "nbformat": 4,
 "nbformat_minor": 5
}
