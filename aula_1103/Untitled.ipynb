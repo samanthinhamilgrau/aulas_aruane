{
 "cells": [
  {
   "cell_type": "code",
   "execution_count": 13,
   "id": "18357a94-4e2f-4ec3-97d8-1517e5e8db08",
   "metadata": {},
   "outputs": [
    {
     "data": {
      "text/plain": [
       "55"
      ]
     },
     "execution_count": 13,
     "metadata": {},
     "output_type": "execute_result"
    }
   ],
   "source": [
    "#11 Passos\n",
    "#O(11)\n",
    "\n",
    "def soma1(n):\n",
    "    soma = 0\n",
    "    for i in range(n+1):\n",
    "        soma += i \n",
    "    return soma\n",
    "soma1(10)"
   ]
  },
  {
   "cell_type": "code",
   "execution_count": 9,
   "id": "ce26d52d-c8a6-4c04-89cc-78438c0e24fd",
   "metadata": {},
   "outputs": [
    {
     "name": "stdout",
     "output_type": "stream",
     "text": [
      "605 ns ± 39.5 ns per loop (mean ± std. dev. of 7 runs, 1,000,000 loops each)\n"
     ]
    }
   ],
   "source": [
    "%timeit soma1(10)"
   ]
  },
  {
   "cell_type": "code",
   "execution_count": 11,
   "id": "9a355576-5d4d-4402-8cbd-8d9867d3bec5",
   "metadata": {},
   "outputs": [
    {
     "data": {
      "text/plain": [
       "55.0"
      ]
     },
     "execution_count": 11,
     "metadata": {},
     "output_type": "execute_result"
    }
   ],
   "source": [
    "#3 Passos\n",
    "#O(3)\n",
    "\n",
    "def soma2(n):\n",
    "    return(n*(n+1))/2\n",
    "\n",
    "soma2(10)"
   ]
  },
  {
   "cell_type": "code",
   "execution_count": 12,
   "id": "94abd4c5-bf5d-47ab-a07e-4a26bcf7b0f8",
   "metadata": {},
   "outputs": [
    {
     "name": "stdout",
     "output_type": "stream",
     "text": [
      "142 ns ± 13.7 ns per loop (mean ± std. dev. of 7 runs, 1,000,000 loops each)\n"
     ]
    }
   ],
   "source": [
    "%timeit soma2(10)"
   ]
  },
  {
   "cell_type": "code",
   "execution_count": 14,
   "id": "7cd6d4d0-1f61-459b-8b08-4c6ac09e34db",
   "metadata": {},
   "outputs": [],
   "source": [
    "from math import log\n",
    "import numpy as np\n",
    "import matplotlib.pyplot as plt"
   ]
  },
  {
   "cell_type": "code",
   "execution_count": 15,
   "id": "1f0323f2-66c7-401e-8820-0f898268db5b",
   "metadata": {},
   "outputs": [],
   "source": [
    "n = np.linspace(1,10,100)"
   ]
  },
  {
   "cell_type": "code",
   "execution_count": 16,
   "id": "203149a1-d3ab-42e7-9577-1c7ab41716e4",
   "metadata": {},
   "outputs": [
    {
     "data": {
      "text/plain": [
       "array([ 1.        ,  1.09090909,  1.18181818,  1.27272727,  1.36363636,\n",
       "        1.45454545,  1.54545455,  1.63636364,  1.72727273,  1.81818182,\n",
       "        1.90909091,  2.        ,  2.09090909,  2.18181818,  2.27272727,\n",
       "        2.36363636,  2.45454545,  2.54545455,  2.63636364,  2.72727273,\n",
       "        2.81818182,  2.90909091,  3.        ,  3.09090909,  3.18181818,\n",
       "        3.27272727,  3.36363636,  3.45454545,  3.54545455,  3.63636364,\n",
       "        3.72727273,  3.81818182,  3.90909091,  4.        ,  4.09090909,\n",
       "        4.18181818,  4.27272727,  4.36363636,  4.45454545,  4.54545455,\n",
       "        4.63636364,  4.72727273,  4.81818182,  4.90909091,  5.        ,\n",
       "        5.09090909,  5.18181818,  5.27272727,  5.36363636,  5.45454545,\n",
       "        5.54545455,  5.63636364,  5.72727273,  5.81818182,  5.90909091,\n",
       "        6.        ,  6.09090909,  6.18181818,  6.27272727,  6.36363636,\n",
       "        6.45454545,  6.54545455,  6.63636364,  6.72727273,  6.81818182,\n",
       "        6.90909091,  7.        ,  7.09090909,  7.18181818,  7.27272727,\n",
       "        7.36363636,  7.45454545,  7.54545455,  7.63636364,  7.72727273,\n",
       "        7.81818182,  7.90909091,  8.        ,  8.09090909,  8.18181818,\n",
       "        8.27272727,  8.36363636,  8.45454545,  8.54545455,  8.63636364,\n",
       "        8.72727273,  8.81818182,  8.90909091,  9.        ,  9.09090909,\n",
       "        9.18181818,  9.27272727,  9.36363636,  9.45454545,  9.54545455,\n",
       "        9.63636364,  9.72727273,  9.81818182,  9.90909091, 10.        ])"
      ]
     },
     "execution_count": 16,
     "metadata": {},
     "output_type": "execute_result"
    }
   ],
   "source": [
    "n"
   ]
  },
  {
   "cell_type": "code",
   "execution_count": 17,
   "id": "a3729d9f-55b7-4cc3-a972-5d4a900041ae",
   "metadata": {},
   "outputs": [
    {
     "data": {
      "text/plain": [
       "array([1., 1., 1., 1., 1., 1., 1., 1., 1., 1., 1., 1., 1., 1., 1., 1., 1.,\n",
       "       1., 1., 1., 1., 1., 1., 1., 1., 1., 1., 1., 1., 1., 1., 1., 1., 1.,\n",
       "       1., 1., 1., 1., 1., 1., 1., 1., 1., 1., 1., 1., 1., 1., 1., 1., 1.,\n",
       "       1., 1., 1., 1., 1., 1., 1., 1., 1., 1., 1., 1., 1., 1., 1., 1., 1.,\n",
       "       1., 1., 1., 1., 1., 1., 1., 1., 1., 1., 1., 1., 1., 1., 1., 1., 1.,\n",
       "       1., 1., 1., 1., 1., 1., 1., 1., 1., 1., 1., 1., 1., 1., 1.])"
      ]
     },
     "execution_count": 17,
     "metadata": {},
     "output_type": "execute_result"
    }
   ],
   "source": [
    "np.ones(n.shape)"
   ]
  },
  {
   "cell_type": "code",
   "execution_count": 18,
   "id": "353e2ee9-5b32-496a-b547-163b76938cd0",
   "metadata": {},
   "outputs": [
    {
     "data": {
      "text/plain": [
       "array([0.        , 0.08701138, 0.16705408, 0.24116206, 0.31015493,\n",
       "       0.37469345, 0.43531807, 0.49247649, 0.54654371, 0.597837  ,\n",
       "       0.64662716, 0.69314718, 0.73759894, 0.78015856, 0.82098055,\n",
       "       0.86020127, 0.89794159, 0.93430924, 0.96940056, 1.00330211,\n",
       "       1.03609193, 1.06784063, 1.09861229, 1.12846525, 1.15745279,\n",
       "       1.18562367, 1.21302264, 1.23969089, 1.26566637, 1.29098418,\n",
       "       1.31567679, 1.33977435, 1.36330484, 1.38629436, 1.40876722,\n",
       "       1.43074612, 1.45225233, 1.47330574, 1.49392503, 1.51412773,\n",
       "       1.53393036, 1.55334845, 1.57239664, 1.59108877, 1.60943791,\n",
       "       1.62745642, 1.645156  , 1.66254774, 1.67964217, 1.69644929,\n",
       "       1.71297859, 1.72923911, 1.74523945, 1.76098781, 1.776492  ,\n",
       "       1.79175947, 1.80679735, 1.82161243, 1.83621123, 1.85059997,\n",
       "       1.8647846 , 1.87877085, 1.89256417, 1.90616982, 1.91959284,\n",
       "       1.93283807, 1.94591015, 1.95881355, 1.97155258, 1.98413136,\n",
       "       1.99655388, 2.00882397, 2.02094533, 2.03292153, 2.04475598,\n",
       "       2.05645202, 2.06801285, 2.07944154, 2.0907411 , 2.1019144 ,\n",
       "       2.11296423, 2.1238933 , 2.13470422, 2.14539951, 2.15598162,\n",
       "       2.16645292, 2.17681571, 2.18707221, 2.19722458, 2.20727491,\n",
       "       2.21722524, 2.22707754, 2.23683372, 2.24649563, 2.25606508,\n",
       "       2.26554382, 2.27493356, 2.28423595, 2.29345261, 2.30258509])"
      ]
     },
     "execution_count": 18,
     "metadata": {},
     "output_type": "execute_result"
    }
   ],
   "source": [
    "np.log(n)"
   ]
  },
  {
   "cell_type": "code",
   "execution_count": 19,
   "id": "71ca7856-dacb-4da8-8687-550c59341b62",
   "metadata": {},
   "outputs": [
    {
     "data": {
      "text/plain": [
       "array([ 0.        ,  0.0949215 ,  0.19742755,  0.30693353,  0.42293854,\n",
       "        0.54500865,  0.67276429,  0.80587061,  0.94403004,  1.08697637,\n",
       "        1.23447004,  1.38629436,  1.54225234,  1.70216413,  1.86586489,\n",
       "        2.03320299,  2.20403846,  2.3782417 ,  2.55569238,  2.73627848,\n",
       "        2.91989544,  3.10644547,  3.29583687,  3.48798351,  3.68280433,\n",
       "        3.88022291,  4.08016706,  4.28256852,  4.4873626 ,  4.69448793,\n",
       "        4.90388623,  5.11550205,  5.32928257,  5.54517744,  5.76313861,\n",
       "        5.98312015,  6.20507813,  6.42897049,  6.65475693,  6.88239878,\n",
       "        7.11185894,  7.34310174,  7.57609291,  7.81079943,  8.04718956,\n",
       "        8.28523267,  8.52489925,  8.7661608 ,  9.00898983,  9.25335976,\n",
       "        9.49924492,  9.74662045,  9.99546233, 10.24574726, 10.49745271,\n",
       "       10.75055682, 11.00503838, 11.26087685, 11.51805227, 11.77654526,\n",
       "       12.03633699, 12.29740918, 12.55974403, 12.82332425, 13.08813301,\n",
       "       13.35415392, 13.62137104, 13.88976884, 14.15933216, 14.43004627,\n",
       "       14.70189677, 14.97486963, 15.24895116, 15.52412802, 15.80038715,\n",
       "       16.07771582, 16.3561016 , 16.63553233, 16.91599615, 17.19748143,\n",
       "       17.47997684, 17.76347127, 18.04795386, 18.33341399, 18.61984125,\n",
       "       18.90722547, 19.19555668, 19.48482511, 19.7750212 , 20.06613557,\n",
       "       20.35815906, 20.65108265, 20.94489752, 21.23959501, 21.53516665,\n",
       "       21.8316041 , 22.12889919, 22.42704392, 22.7260304 , 23.02585093])"
      ]
     },
     "execution_count": 19,
     "metadata": {},
     "output_type": "execute_result"
    }
   ],
   "source": [
    "n * np.log(n)"
   ]
  },
  {
   "cell_type": "code",
   "execution_count": 22,
   "id": "ff37f5fe-3bad-439d-a9b1-b37f9154c4a3",
   "metadata": {},
   "outputs": [
    {
     "data": {
      "text/plain": [
       "array([  1.        ,   1.19008264,   1.39669421,   1.61983471,\n",
       "         1.85950413,   2.11570248,   2.38842975,   2.67768595,\n",
       "         2.98347107,   3.30578512,   3.6446281 ,   4.        ,\n",
       "         4.37190083,   4.76033058,   5.16528926,   5.58677686,\n",
       "         6.02479339,   6.47933884,   6.95041322,   7.43801653,\n",
       "         7.94214876,   8.46280992,   9.        ,   9.55371901,\n",
       "        10.12396694,  10.7107438 ,  11.31404959,  11.9338843 ,\n",
       "        12.57024793,  13.2231405 ,  13.89256198,  14.5785124 ,\n",
       "        15.28099174,  16.        ,  16.73553719,  17.48760331,\n",
       "        18.25619835,  19.04132231,  19.84297521,  20.66115702,\n",
       "        21.49586777,  22.34710744,  23.21487603,  24.09917355,\n",
       "        25.        ,  25.91735537,  26.85123967,  27.80165289,\n",
       "        28.76859504,  29.75206612,  30.75206612,  31.76859504,\n",
       "        32.80165289,  33.85123967,  34.91735537,  36.        ,\n",
       "        37.09917355,  38.21487603,  39.34710744,  40.49586777,\n",
       "        41.66115702,  42.84297521,  44.04132231,  45.25619835,\n",
       "        46.48760331,  47.73553719,  49.        ,  50.28099174,\n",
       "        51.5785124 ,  52.89256198,  54.2231405 ,  55.57024793,\n",
       "        56.9338843 ,  58.31404959,  59.7107438 ,  61.12396694,\n",
       "        62.55371901,  64.        ,  65.46280992,  66.94214876,\n",
       "        68.43801653,  69.95041322,  71.47933884,  73.02479339,\n",
       "        74.58677686,  76.16528926,  77.76033058,  79.37190083,\n",
       "        81.        ,  82.6446281 ,  84.30578512,  85.98347107,\n",
       "        87.67768595,  89.38842975,  91.11570248,  92.85950413,\n",
       "        94.61983471,  96.39669421,  98.19008264, 100.        ])"
      ]
     },
     "execution_count": 22,
     "metadata": {},
     "output_type": "execute_result"
    }
   ],
   "source": [
    "n**2"
   ]
  },
  {
   "cell_type": "code",
   "execution_count": 23,
   "id": "72c52b02-da45-4038-86df-83b67da1618e",
   "metadata": {},
   "outputs": [
    {
     "data": {
      "text/plain": [
       "array([   1.        ,    1.29827198,    1.65063862,    2.06160781,\n",
       "          2.53568745,    3.07738542,    3.69120962,    4.38166792,\n",
       "          5.15326822,    6.01051841,    6.95792637,    8.        ,\n",
       "          9.14124718,   10.38617581,   11.73929376,   13.20510894,\n",
       "         14.78812923,   16.49286251,   18.32381668,   20.28549962,\n",
       "         22.38241923,   24.6190834 ,   27.        ,   29.52967693,\n",
       "         32.21262209,   35.05334335,   38.05634861,   41.22614576,\n",
       "         44.56724267,   48.08414726,   51.78136739,   55.66341097,\n",
       "         59.73478588,   64.        ,   68.46356123,   73.12997746,\n",
       "         78.00375657,   83.08940646,   88.39143501,   93.91435011,\n",
       "         99.66265965,  105.64087153,  111.85349361,  118.30503381,\n",
       "        125.        ,  131.94290008,  139.13824192,  146.59053343,\n",
       "        154.30428249,  162.28399699,  170.53418482,  179.05935387,\n",
       "        187.86401202,  196.95266717,  206.3298272 ,  216.        ,\n",
       "        225.96769346,  236.23741548,  246.81367393,  257.70097671,\n",
       "        268.90383171,  280.42674681,  292.2742299 ,  304.45078888,\n",
       "        316.96093163,  329.80916604,  343.        ,  356.5379414 ,\n",
       "        370.42749812,  384.67317806,  399.27948911,  414.25093914,\n",
       "        429.59203606,  445.30728775,  461.4012021 ,  477.878287  ,\n",
       "        494.74305034,  512.        ,  529.65364388,  547.70848986,\n",
       "        566.16904583,  585.03981968,  604.32531931,  624.03005259,\n",
       "        644.15852742,  664.71525169,  685.70473328,  707.13148009,\n",
       "        729.        ,  751.3148009 ,  774.08039068,  797.30127724,\n",
       "        820.98196844,  845.1269722 ,  869.74079639,  894.82794891,\n",
       "        920.39293764,  946.44027047,  972.9744553 , 1000.        ])"
      ]
     },
     "execution_count": 23,
     "metadata": {},
     "output_type": "execute_result"
    }
   ],
   "source": [
    "n**3"
   ]
  },
  {
   "cell_type": "code",
   "execution_count": 20,
   "id": "6b934d01-f063-4830-b067-1238fab2e2e6",
   "metadata": {},
   "outputs": [
    {
     "data": {
      "text/plain": [
       "array([   2.        ,    2.13008218,    2.26862504,    2.41617889,\n",
       "          2.5733298 ,    2.74070197,    2.91896021,    3.10881256,\n",
       "          3.31101312,    3.52636502,    3.75572364,    4.        ,\n",
       "          4.26016436,    4.53725009,    4.83235778,    5.14665959,\n",
       "          5.48140394,    5.83792042,    6.21762513,    6.62202624,\n",
       "          7.05273004,    7.51144729,    8.        ,    8.52032872,\n",
       "          9.07450018,    9.66471556,   10.29331918,   10.96280788,\n",
       "         11.67584085,   12.43525025,   13.24405248,   14.10546008,\n",
       "         15.02289457,   16.        ,   17.04065743,   18.14900036,\n",
       "         19.32943111,   20.58663837,   21.92561576,   23.35168169,\n",
       "         24.87050051,   26.48810496,   28.21092016,   30.04578914,\n",
       "         32.        ,   34.08131486,   36.29800071,   38.65886222,\n",
       "         41.17327674,   43.85123151,   46.70336338,   49.74100102,\n",
       "         52.97620991,   56.42184032,   60.09157828,   64.        ,\n",
       "         68.16262972,   72.59600142,   77.31772444,   82.34655347,\n",
       "         87.70246302,   93.40672676,   99.48200203,  105.95241983,\n",
       "        112.84368064,  120.18315656,  128.        ,  136.32525945,\n",
       "        145.19200284,  154.63544888,  164.69310695,  175.40492604,\n",
       "        186.81345353,  198.96400407,  211.90483965,  225.68736128,\n",
       "        240.36631313,  256.        ,  272.6505189 ,  290.38400568,\n",
       "        309.27089777,  329.38621389,  350.80985209,  373.62690705,\n",
       "        397.92800813,  423.8096793 ,  451.37472256,  480.73262626,\n",
       "        512.        ,  545.30103779,  580.76801136,  618.54179554,\n",
       "        658.77242778,  701.61970418,  747.25381411,  795.85601627,\n",
       "        847.6193586 ,  902.74944512,  961.46525252, 1024.        ])"
      ]
     },
     "execution_count": 20,
     "metadata": {},
     "output_type": "execute_result"
    }
   ],
   "source": [
    "2**n"
   ]
  },
  {
   "cell_type": "code",
   "execution_count": 30,
   "id": "db794c0d-a9a8-4df9-9ba3-1b5d7a38d0a7",
   "metadata": {},
   "outputs": [],
   "source": [
    "label= ['Constantes', 'Log', 'Linear', 'Log Linear', 'Quadrada', 'Cubica', 'Exponecial']\n",
    "big_o= [np.ones(n.shape), np.log(n), n, n * np.log(n), n**2, n**3, 2**n]"
   ]
  },
  {
   "cell_type": "code",
   "execution_count": 31,
   "id": "67379eca-1c14-4b5b-a21c-3416aa87ce92",
   "metadata": {},
   "outputs": [
    {
     "data": {
      "text/plain": [
       "Text(0.5, 0, 'n')"
      ]
     },
     "execution_count": 31,
     "metadata": {},
     "output_type": "execute_result"
    },
    {
     "data": {
      "image/png": "[encoded data removed]",
      "text/plain": [
       "<Figure size 1000x800 with 1 Axes>"
      ]
     },
     "metadata": {},
     "output_type": "display_data"
    }
   ],
   "source": [
    "plt.figure(figsize=(10,8))\n",
    "plt.ylim(0,100)\n",
    "for i in range(len(big_o)):\n",
    "    plt.plot(n, big_o[i], label = label[i])\n",
    "plt.legend()\n",
    "plt.ylabel(\"Tempo de processo\")\n",
    "plt.xlabel(\"n\")"
   ]
  },
  {
   "cell_type": "code",
   "execution_count": 32,
   "id": "9fd59bd4-f2bd-4b46-887e-b85b2b927520",
   "metadata": {},
   "outputs": [],
   "source": [
    "lista = [1,2,3,4,5,6,7,8,9,10]"
   ]
  },
  {
   "cell_type": "code",
   "execution_count": 33,
   "id": "1c31124c-5470-4021-b956-33eb0f16bc97",
   "metadata": {},
   "outputs": [
    {
     "name": "stdout",
     "output_type": "stream",
     "text": [
      "1\n",
      "1\n"
     ]
    }
   ],
   "source": [
    "def linear(n):\n",
    "    print(n[0])\n",
    "    print(n[0])\n",
    "\n",
    "linear(lista)"
   ]
  },
  {
   "cell_type": "code",
   "execution_count": null,
   "id": "67d8292b-8516-40b8-9a62-11b4dae6eb40",
   "metadata": {},
   "outputs": [],
   "source": []
  }
 ],
 "metadata": {
  "kernelspec": {
   "display_name": "Python 3 (ipykernel)",
   "language": "python",
   "name": "python3"
  },
  "language_info": {
   "codemirror_mode": {
    "name": "ipython",
    "version": 3
   },
   "file_extension": ".py",
   "mimetype": "text/x-python",
   "name": "python",
   "nbconvert_exporter": "python",
   "pygments_lexer": "ipython3",
   "version": "3.12.7"
  }
 },
 "nbformat": 4,
 "nbformat_minor": 5
}
