{
 "cells": [
  {
   "cell_type": "code",
   "execution_count": 38,
   "id": "f909517c-c3cc-4107-9e7d-ce3ad8db2144",
   "metadata": {},
   "outputs": [
    {
     "name": "stdout",
     "output_type": "stream",
     "text": [
      "[5, 1, 3, 10]\n"
     ]
    }
   ],
   "source": [
    "numeros = [5,1,3]\n",
    "\n",
    "numeros.append(10)\n",
    "\n",
    "\n",
    "\n",
    "print(numeros)"
   ]
  },
  {
   "cell_type": "code",
   "execution_count": 40,
   "id": "be53024b-3184-4ebe-ae99-316baec0e7ba",
   "metadata": {},
   "outputs": [
    {
     "name": "stdout",
     "output_type": "stream",
     "text": [
      "Número 8 não encontrado no vetor.\n"
     ]
    }
   ],
   "source": [
    "valor_procurado = 8\n",
    "\n",
    "encontrado = False\n",
    "\n",
    "for i in range(len(numeros)):\n",
    "    if numeros[i] == valor_procurado:\n",
    "        print(f\"Número {valor_procurado} encontrado na posição {i}.\")\n",
    "        encontrado = True\n",
    "        break\n",
    "\n",
    "if not encontrado:\n",
    "    print(f\"Número {valor_procurado} não encontrado no vetor.\")\n"
   ]
  },
  {
   "cell_type": "code",
   "execution_count": 31,
   "id": "ca0a2beb-10b7-4897-a36d-e53656ab6fa6",
   "metadata": {},
   "outputs": [
    {
     "name": "stdout",
     "output_type": "stream",
     "text": [
      "[2, 4, 5, 7, 9]\n"
     ]
    }
   ],
   "source": [
    "lista = [2,4,7,9]\n",
    "\n",
    "\n",
    "def test():\n",
    "    lista.append(5)\n",
    "    lista.sort()\n",
    "    print(lista)\n",
    "\n",
    "test()"
   ]
  },
  {
   "cell_type": "code",
   "execution_count": 32,
   "id": "9e780381-b3aa-444a-8be4-2f404cc644c8",
   "metadata": {},
   "outputs": [
    {
     "name": "stdout",
     "output_type": "stream",
     "text": [
      "[2, 4, 7, 9, 5]\n"
     ]
    }
   ],
   "source": [
    "listaa = [2,4,7,9]\n",
    "\n",
    "listaa.sort()\n",
    "listaa.append(5)\n",
    "\n",
    "print(listaa)"
   ]
  },
  {
   "cell_type": "code",
   "execution_count": 49,
   "id": "2a31ef04-4dac-4edb-a9fd-449a06a6c48f",
   "metadata": {},
   "outputs": [
    {
     "name": "stdout",
     "output_type": "stream",
     "text": [
      "[2, 5, 7, 9]\n"
     ]
    }
   ],
   "source": [
    "ordenado = [2, 4, 5, 7, 9]\n",
    "\n",
    "ordenado.pop(1)\n",
    "\n",
    "print(ordenado)"
   ]
  },
  {
   "cell_type": "code",
   "execution_count": 41,
   "id": "443def3b-4075-4021-9a1e-5b257d671fad",
   "metadata": {},
   "outputs": [
    {
     "name": "stdout",
     "output_type": "stream",
     "text": [
      "Número 7 encontrado na posição 3.\n"
     ]
    }
   ],
   "source": [
    "ordenadoo = [2, 4, 5, 7, 9]\n",
    "valor_procuradoo = 7\n",
    "\n",
    "encontradoo = False\n",
    "\n",
    "for i in range(len(ordenadoo)):\n",
    "    if ordenadoo[i] == valor_procuradoo:\n",
    "        print(f\"Número {valor_procuradoo} encontrado na posição {i}.\")\n",
    "        encontradoo = True\n",
    "        break\n",
    "\n",
    "if not encontradoo:\n",
    "    print(f\"Número {valor_procuradoo} não encontrado no vetor.\")\n"
   ]
  },
  {
   "cell_type": "code",
   "execution_count": 45,
   "id": "1be90740-b0d1-4f56-a84f-f4aeda71a601",
   "metadata": {},
   "outputs": [
    {
     "name": "stdout",
     "output_type": "stream",
     "text": [
      "Valor removido: 3\n",
      "[1, 2]\n"
     ]
    }
   ],
   "source": [
    "pilha = [1,2,3]\n",
    "\n",
    "removido = pilha.pop(2)\n",
    "\n",
    "\n",
    "print(\"Valor removido:\", removido)\n",
    "print(pilha)"
   ]
  },
  {
   "cell_type": "code",
   "execution_count": 47,
   "id": "1b792341-963b-4b62-a2a5-1bbb9eca42c1",
   "metadata": {},
   "outputs": [
    {
     "name": "stdout",
     "output_type": "stream",
     "text": [
      "Valor removido: a\n",
      "['b', 'c']\n"
     ]
    }
   ],
   "source": [
    "fila = ['a', 'b', 'c']\n",
    "\n",
    "removidoo = fila.pop(0)\n",
    "\n",
    "print(\"Valor removido:\", removidoo)\n",
    "print(fila)"
   ]
  },
  {
   "cell_type": "code",
   "execution_count": 48,
   "id": "4d5a4995-3219-483c-afd3-b4fcf8ffeb8e",
   "metadata": {},
   "outputs": [
    {
     "name": "stdout",
     "output_type": "stream",
     "text": [
      "Pilha: 3 Fila: 1\n"
     ]
    }
   ],
   "source": [
    "valores = [1,2,3]\n",
    "\n",
    "pilha = valores.pop(2)\n",
    "\n",
    "fila = valores.pop(0)\n",
    "\n",
    "print(\"Pilha:\", pilha, \"Fila:\", fila)"
   ]
  },
  {
   "cell_type": "code",
   "execution_count": 54,
   "id": "83a27ef4-d953-45df-af91-9dd9434a6518",
   "metadata": {},
   "outputs": [
    {
     "name": "stdout",
     "output_type": "stream",
     "text": [
      "Inserindo o valor 1:  deque(['1'])\n",
      "Inserindo o valor 2:  deque(['1', '2'])\n",
      "Removendo o valor 2:  2 Resultado:  deque(['1'])\n",
      "Removendo o valor 1:  1 Resultado:  deque([])\n"
     ]
    }
   ],
   "source": [
    "from collections import deque\n",
    "\n",
    "fila = deque()\n",
    "\n",
    "fila.appendleft('1')   \n",
    "\n",
    "print(\"Inserindo o valor 1: \", fila )\n",
    "\n",
    "fila.append('2') \n",
    "\n",
    "print(\"Inserindo o valor 2: \", fila )\n",
    "\n",
    "rmv2 = fila.pop() \n",
    "\n",
    "print(\"Removendo o valor 2: \", rmv2, \"Resultado: \", fila )\n",
    "\n",
    "rmv1 = fila.popleft()\n",
    "\n",
    "print(\"Removendo o valor 1: \", rmv1, \"Resultado: \", fila)\n",
    " "
   ]
  },
  {
   "cell_type": "code",
   "execution_count": 58,
   "id": "411c38a9-d103-493e-814a-a8f605ba8e2a",
   "metadata": {},
   "outputs": [
    {
     "name": "stdout",
     "output_type": "stream",
     "text": [
      "['caixa1', 'caixa2', 'caixa3']\n",
      "Primeira caixa a ser removida sera a:  caixa3\n",
      "Resultado:  ['caixa1', 'caixa2']\n",
      "Segunda caixa a ser removida sera a:  caixa2\n",
      "Resultado:  ['caixa1']\n",
      "A ultima caixa a ser removida sera a:  caixa1\n",
      "Resultado:  []\n"
     ]
    }
   ],
   "source": [
    "pilha_de_caixas = ['caixa1', 'caixa2', 'caixa3']\n",
    "\n",
    "print(pilha_de_caixas)\n",
    "\n",
    "remove3 = pilha_de_caixas.pop(2)\n",
    "\n",
    "print(\"Primeira caixa a ser removida sera a: \", remove3)\n",
    "print(\"Resultado: \",  pilha_de_caixas)\n",
    "\n",
    "remove2 = pilha_de_caixas.pop(1)\n",
    "\n",
    "print(\"Segunda caixa a ser removida sera a: \", remove2)\n",
    "print(\"Resultado: \",  pilha_de_caixas)\n",
    "\n",
    "remove1 = pilha_de_caixas.pop(0)\n",
    "\n",
    "print(\"A ultima caixa a ser removida sera a: \", remove1)\n",
    "print(\"Resultado: \",  pilha_de_caixas)\n"
   ]
  },
  {
   "cell_type": "code",
   "execution_count": 62,
   "id": "c8703a2e-9fed-4539-8938-69c0f41573f0",
   "metadata": {},
   "outputs": [
    {
     "name": "stdout",
     "output_type": "stream",
     "text": [
      "['Maria', 'João', 'Ana']\n",
      "A Primeira pessoa a ser atendida será a:  Maria\n",
      "Resultado:  ['João', 'Ana']\n",
      "A segunda pessoa a ser atendida será o:  João\n",
      "Resultado:  ['Ana']\n",
      "A ultima pessoa a ser atendida será a:  Ana\n",
      "Resultado:  []\n"
     ]
    }
   ],
   "source": [
    "fila_de_pessoas = [\"Maria\", \"João\", \"Ana\"]\n",
    "\n",
    "print(fila_de_pessoas)\n",
    "\n",
    "remover1 = fila_de_pessoas.pop(0)\n",
    "\n",
    "print(\"A Primeira pessoa a ser atendida será a: \", remover1)\n",
    "print(\"Resultado: \",  fila_de_pessoas)\n",
    "\n",
    "remover2 = fila_de_pessoas.pop(0)\n",
    "\n",
    "print(\"A segunda pessoa a ser atendida será o: \", remover2)\n",
    "print(\"Resultado: \",  fila_de_pessoas)\n",
    "\n",
    "remover3 = fila_de_pessoas.pop(0)\n",
    "\n",
    "print(\"A ultima pessoa a ser atendida será a: \", remover3)\n",
    "print(\"Resultado: \",  fila_de_pessoas)\n"
   ]
  },
  {
   "cell_type": "markdown",
   "id": "666906c9-faec-4948-929b-ffb669686535",
   "metadata": {},
   "source": [
    "13. Escolha a Estrutura Correta\n",
    "    \n",
    "Conceito: Cada estrutura serve para uma situação diferente.\n",
    "Enunciado:\n",
    "\n",
    "Para cada caso abaixo, diga qual estrutura você usaria (vetor, pilha, fila ou deque) e explique\n",
    "por que com uma frase simples:\n",
    "\n",
    "\n",
    "1. Guardar notas dos alunos sem se preocupar com a ordem.\n",
    "Resposta: Vetor não ordenado, porque não precisa estar na ordem.\n",
    "\n",
    "2. Histórico de páginas visitadas no navegador.\n",
    "Resposta: Pilha, porque toda vez que entrar uma pesquisa nova a ultima vai para o final da pilha.\n",
    "\n",
    "3. Atendimento em uma fila de banco.\n",
    "Reposta: Fila, porque o primeiro a entrar sempre será o  primeiro a ser atendido e assim sucessivamente. \n",
    "\n",
    "4. Jogo onde o jogador pode \"voltar\" e \"avançar\" ações.\n",
    "Resposta: Deque, porque no deque pode ser adicionado no final ou no inicio.\n",
    "\n",
    "5. Procurar um nome em uma lista telefônica ordenada.\n",
    "Resposta: Vetores Ordenados, porque essa é a melhor  opção para lista ordernadas ja que ele ira ordernar por nome."
   ]
  }
 ],
 "metadata": {
  "kernelspec": {
   "display_name": "Python 3 (ipykernel)",
   "language": "python",
   "name": "python3"
  },
  "language_info": {
   "codemirror_mode": {
    "name": "ipython",
    "version": 3
   },
   "file_extension": ".py",
   "mimetype": "text/x-python",
   "name": "python",
   "nbconvert_exporter": "python",
   "pygments_lexer": "ipython3",
   "version": "3.12.7"
  }
 },
 "nbformat": 4,
 "nbformat_minor": 5
}
