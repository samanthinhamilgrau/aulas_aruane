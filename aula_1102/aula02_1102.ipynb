{
 "cells": [
  {
   "cell_type": "markdown",
   "id": "afb65135-f296-40d8-a1e7-11545cb50a96",
   "metadata": {},
   "source": [
    "**variaveis inteiras**"
   ]
  },
  {
   "cell_type": "code",
   "execution_count": 15,
   "id": "79ad10cb-8289-4893-9345-508544a6f48e",
   "metadata": {},
   "outputs": [],
   "source": [
    "numero = -3\n",
    "numero_jogos =14\n",
    "numero_convidados = 15"
   ]
  },
  {
   "cell_type": "code",
   "execution_count": 16,
   "id": "601ff832-9803-4ced-8464-6cb723c8e945",
   "metadata": {},
   "outputs": [
    {
     "data": {
      "text/plain": [
       "-3"
      ]
     },
     "execution_count": 16,
     "metadata": {},
     "output_type": "execute_result"
    }
   ],
   "source": [
    "numero"
   ]
  },
  {
   "cell_type": "code",
   "execution_count": 17,
   "id": "4956abf5-6a72-479e-893c-ac5c5dee7600",
   "metadata": {},
   "outputs": [
    {
     "name": "stdout",
     "output_type": "stream",
     "text": [
      "-3 15\n"
     ]
    }
   ],
   "source": [
    "print(numero, numero_convidados)"
   ]
  },
  {
   "cell_type": "markdown",
   "id": "dcab1e9b-3479-4ec5-91ac-97d8b15d9379",
   "metadata": {},
   "source": [
    "**Variaveis Float**"
   ]
  },
  {
   "cell_type": "code",
   "execution_count": 18,
   "id": "466f5349-25df-4282-869e-89a50c00e2e0",
   "metadata": {},
   "outputs": [
    {
     "data": {
      "text/plain": [
       "(3, 14)"
      ]
     },
     "execution_count": 18,
     "metadata": {},
     "output_type": "execute_result"
    }
   ],
   "source": [
    "pi=3,14\n",
    "pi"
   ]
  },
  {
   "cell_type": "markdown",
   "id": "8bf0681e-6b19-475e-954f-f9f08ca85b1b",
   "metadata": {},
   "source": [
    "**String**"
   ]
  },
  {
   "cell_type": "code",
   "execution_count": 20,
   "id": "b35792a2-c762-45c7-b326-cda88841a908",
   "metadata": {},
   "outputs": [
    {
     "name": "stdout",
     "output_type": "stream",
     "text": [
      "a linguagem\n"
     ]
    }
   ],
   "source": [
    "letra = \"a\"\n",
    "palavra = \"linguagem\"\n",
    "print(letra, palavra)"
   ]
  },
  {
   "cell_type": "code",
   "execution_count": 3,
   "id": "64df93d6-9213-413a-b081-20a1848b63c7",
   "metadata": {},
   "outputs": [
    {
     "name": "stdin",
     "output_type": "stream",
     "text": [
      "Qual a sua idade? 14\n"
     ]
    },
    {
     "name": "stdout",
     "output_type": "stream",
     "text": [
      "Sua idade é: 14\n"
     ]
    }
   ],
   "source": [
    "idade = int(input(\"Qual a sua idade?\"))\n",
    "print(\"Sua idade é:\",idade)"
   ]
  },
  {
   "cell_type": "code",
   "execution_count": 5,
   "id": "429ee730-0345-43a4-bab4-90ef10de96fc",
   "metadata": {},
   "outputs": [
    {
     "name": "stdout",
     "output_type": "stream",
     "text": [
      "casaco\n"
     ]
    }
   ],
   "source": [
    "a = 'casaco'\n",
    "print(a)\n"
   ]
  },
  {
   "cell_type": "code",
   "execution_count": 8,
   "id": "1de9b110-6594-4231-98d4-cacdef47bf94",
   "metadata": {},
   "outputs": [
    {
     "name": "stdout",
     "output_type": "stream",
     "text": [
      "CASACO\n"
     ]
    }
   ],
   "source": [
    "maiusculo = a.upper()\n",
    "print(maiusculo)"
   ]
  },
  {
   "cell_type": "code",
   "execution_count": 10,
   "id": "ba5f2971-9ccd-4bf2-8ec8-13a32b9af173",
   "metadata": {},
   "outputs": [
    {
     "name": "stdout",
     "output_type": "stream",
     "text": [
      "casaco\n"
     ]
    }
   ],
   "source": [
    "minuscula= a.lower()\n",
    "print(minuscula)"
   ]
  },
  {
   "cell_type": "code",
   "execution_count": 12,
   "id": "b2d79407-27ee-444b-bd8d-8e87e2b10f57",
   "metadata": {},
   "outputs": [
    {
     "name": "stdout",
     "output_type": "stream",
     "text": [
      "Casaco\n"
     ]
    }
   ],
   "source": [
    "capital =a.capitalize()\n",
    "print(capital)"
   ]
  },
  {
   "cell_type": "code",
   "execution_count": 13,
   "id": "61026951-36ce-4eed-b70c-84a7f72490f3",
   "metadata": {},
   "outputs": [
    {
     "name": "stdout",
     "output_type": "stream",
     "text": [
      "casa\n"
     ]
    }
   ],
   "source": [
    "metade_palavra=a[0:4]\n",
    "print(metade_palavra)"
   ]
  },
  {
   "cell_type": "code",
   "execution_count": 14,
   "id": "03e93adb-ad7d-4598-957a-7935c843ed10",
   "metadata": {},
   "outputs": [
    {
     "name": "stdout",
     "output_type": "stream",
     "text": [
      "co\n"
     ]
    }
   ],
   "source": [
    "ultimas_letras=a[4:]\n",
    "print(ultimas_letras)"
   ]
  },
  {
   "cell_type": "code",
   "execution_count": 23,
   "id": "d68db107-5d3d-410c-972f-9ad6b20add62",
   "metadata": {},
   "outputs": [
    {
     "data": {
      "text/plain": [
       "'casinha'"
      ]
     },
     "execution_count": 23,
     "metadata": {},
     "output_type": "execute_result"
    }
   ],
   "source": [
    "b =a.replace('aco', 'inha')\n",
    "b"
   ]
  },
  {
   "cell_type": "code",
   "execution_count": 24,
   "id": "e6ba2f54-888e-4442-b0a5-4bd06b707e8b",
   "metadata": {},
   "outputs": [
    {
     "data": {
      "text/plain": [
       "0"
      ]
     },
     "execution_count": 24,
     "metadata": {},
     "output_type": "execute_result"
    }
   ],
   "source": [
    "b.find('c')"
   ]
  },
  {
   "cell_type": "code",
   "execution_count": 28,
   "id": "83d71578-2913-4686-b10a-54ab28d485c7",
   "metadata": {},
   "outputs": [
    {
     "name": "stdout",
     "output_type": "stream",
     "text": [
      "9\n"
     ]
    }
   ],
   "source": [
    "e = 'aruane   '\n",
    "print(len(e))"
   ]
  },
  {
   "cell_type": "code",
   "execution_count": 27,
   "id": "53be2520-c64b-4bdd-8467-69894d59cf92",
   "metadata": {},
   "outputs": [
    {
     "name": "stdout",
     "output_type": "stream",
     "text": [
      "6\n"
     ]
    }
   ],
   "source": [
    "f=e.strip()\n",
    "print(len(f))"
   ]
  },
  {
   "cell_type": "markdown",
   "id": "c6d530df-01b0-4530-acdd-b457241ad1b9",
   "metadata": {},
   "source": [
    "**Operações matematicas**"
   ]
  },
  {
   "cell_type": "code",
   "execution_count": 34,
   "id": "8343f985-a6c2-4461-bc71-58d630755b0b",
   "metadata": {},
   "outputs": [
    {
     "name": "stdout",
     "output_type": "stream",
     "text": [
      "0.875\n",
      "224\n",
      "a soma é 30\n",
      "30\n",
      "2177953337809371136\n"
     ]
    }
   ],
   "source": [
    "n1=14\n",
    "n2=16\n",
    "\n",
    "soma=n1+n2\n",
    "\n",
    "print(n1/n2)\n",
    "print(n1*n2)\n",
    "print(f'a soma é {n1+n2}')\n",
    "print(soma)\n",
    "print(n1**n2)"
   ]
  },
  {
   "cell_type": "code",
   "execution_count": 36,
   "id": "e9a7f6e7-d8b5-4d55-b956-ba78528e91ef",
   "metadata": {},
   "outputs": [
    {
     "data": {
      "text/plain": [
       "9.0"
      ]
     },
     "execution_count": 36,
     "metadata": {},
     "output_type": "execute_result"
    }
   ],
   "source": [
    "import math\n",
    "\n",
    "math.sqrt(81)"
   ]
  },
  {
   "cell_type": "code",
   "execution_count": 40,
   "id": "5fe3d1a9-3568-414e-b755-655f05803e7e",
   "metadata": {},
   "outputs": [
    {
     "name": "stdout",
     "output_type": "stream",
     "text": [
      "0.00010451960178031722\n"
     ]
    },
    {
     "data": {
      "text/plain": [
       "0.0"
      ]
     },
     "execution_count": 40,
     "metadata": {},
     "output_type": "execute_result"
    }
   ],
   "source": [
    "a=36\n",
    "b = 344433\n",
    "\n",
    "c= a/b\n",
    "\n",
    "print(c)\n",
    "\n",
    "round(c, 1)"
   ]
  },
  {
   "cell_type": "markdown",
   "id": "ee2f3ca6-a667-4689-8a78-1556cee8cd1d",
   "metadata": {},
   "source": [
    "**Exercicio**"
   ]
  },
  {
   "cell_type": "markdown",
   "id": "ad53a630-b275-4a63-8abf-6695627daeb0",
   "metadata": {},
   "source": [
    "**1-**"
   ]
  },
  {
   "cell_type": "code",
   "execution_count": 46,
   "id": "80db0181-1e28-4da6-a802-441c353abf5e",
   "metadata": {},
   "outputs": [
    {
     "name": "stdin",
     "output_type": "stream",
     "text": [
      "Coloque o primeiro numero: 5\n",
      "Coloque o segundo numero: 10\n"
     ]
    },
    {
     "name": "stdout",
     "output_type": "stream",
     "text": [
      "15\n",
      "-5\n",
      "50\n",
      "0.5\n"
     ]
    }
   ],
   "source": [
    "number1 = int(input(\"Coloque o primeiro numero:\"))\n",
    "number2 = int(input(\"Coloque o segundo numero:\"))\n",
    "\n",
    "print(number1+number2)\n",
    "print(number1-number2)\n",
    "print(number1*number2)\n",
    "print(number1/number2)\n"
   ]
  },
  {
   "cell_type": "markdown",
   "id": "2ce36103-ef57-4af8-836a-a700c755ab42",
   "metadata": {},
   "source": [
    "**2-**"
   ]
  },
  {
   "cell_type": "code",
   "execution_count": 52,
   "id": "a065e236-32a2-4281-8b64-eb6a69a29a0c",
   "metadata": {},
   "outputs": [
    {
     "name": "stdin",
     "output_type": "stream",
     "text": [
      "Digite o tempo: 5\n",
      "Digite a velocidade: 60\n"
     ]
    },
    {
     "name": "stdout",
     "output_type": "stream",
     "text": [
      "Essa é a sua distancia: 300\n",
      "Voce gastará 25.0 litros nessa viagem\n"
     ]
    }
   ],
   "source": [
    "tempo=int(input(\"Digite o tempo:\"))\n",
    "velocidade=int(input(\"Digite a velocidade:\"))\n",
    "\n",
    "distancia= tempo*velocidade\n",
    "print(\"Essa é a sua distancia:\", distancia )\n",
    "\n",
    "litros_usados=distancia/12\n",
    "print(f'Voce gastará {litros_usados} litros nessa viagem')\n"
   ]
  },
  {
   "cell_type": "markdown",
   "id": "0c39523e-0c80-4478-96c0-061af7cfea81",
   "metadata": {},
   "source": [
    "**Operadores logicos**"
   ]
  },
  {
   "cell_type": "code",
   "execution_count": 56,
   "id": "5cc33607-dabc-4c35-8dc9-3e9b59ae80e2",
   "metadata": {},
   "outputs": [
    {
     "name": "stdout",
     "output_type": "stream",
     "text": [
      "True False\n"
     ]
    }
   ],
   "source": [
    "e = True\n",
    "d = False\n",
    "\n",
    "print(e,d)"
   ]
  },
  {
   "cell_type": "code",
   "execution_count": 57,
   "id": "df7691dd-2440-4d41-a449-ed38ae9d2673",
   "metadata": {},
   "outputs": [
    {
     "data": {
      "text/plain": [
       "False"
      ]
     },
     "execution_count": 57,
     "metadata": {},
     "output_type": "execute_result"
    }
   ],
   "source": [
    "e and d"
   ]
  },
  {
   "cell_type": "code",
   "execution_count": 58,
   "id": "cc949849-4712-4014-897f-6c3eaedb263f",
   "metadata": {},
   "outputs": [
    {
     "data": {
      "text/plain": [
       "True"
      ]
     },
     "execution_count": 58,
     "metadata": {},
     "output_type": "execute_result"
    }
   ],
   "source": [
    "a or b"
   ]
  },
  {
   "cell_type": "markdown",
   "id": "0bdcff89-ecba-4dc7-9603-2a209fdd3499",
   "metadata": {},
   "source": [
    "**Operadores Relacionais**"
   ]
  },
  {
   "cell_type": "code",
   "execution_count": 59,
   "id": "abd1e417-24a3-4914-8074-275f206ce141",
   "metadata": {},
   "outputs": [
    {
     "data": {
      "text/plain": [
       "False"
      ]
     },
     "execution_count": 59,
     "metadata": {},
     "output_type": "execute_result"
    }
   ],
   "source": [
    "5<3"
   ]
  },
  {
   "cell_type": "code",
   "execution_count": 60,
   "id": "d1321e8f-ff7a-405e-962d-7daaf9087ce5",
   "metadata": {},
   "outputs": [
    {
     "data": {
      "text/plain": [
       "True"
      ]
     },
     "execution_count": 60,
     "metadata": {},
     "output_type": "execute_result"
    }
   ],
   "source": [
    "5>3"
   ]
  },
  {
   "cell_type": "code",
   "execution_count": 61,
   "id": "1589bc5a-e80d-4d76-a8ce-548d3aa1dccc",
   "metadata": {},
   "outputs": [
    {
     "data": {
      "text/plain": [
       "True"
      ]
     },
     "execution_count": 61,
     "metadata": {},
     "output_type": "execute_result"
    }
   ],
   "source": [
    "5!=3"
   ]
  },
  {
   "cell_type": "code",
   "execution_count": 62,
   "id": "14c16d83-2629-4bc8-8ce6-e7fe98953c73",
   "metadata": {},
   "outputs": [
    {
     "data": {
      "text/plain": [
       "False"
      ]
     },
     "execution_count": 62,
     "metadata": {},
     "output_type": "execute_result"
    }
   ],
   "source": [
    "5==3"
   ]
  },
  {
   "cell_type": "markdown",
   "id": "8448e152-73f4-4edf-8c58-b63fd6a8bdf5",
   "metadata": {},
   "source": [
    "**Operador condicional**"
   ]
  },
  {
   "cell_type": "code",
   "execution_count": 64,
   "id": "4565e734-9855-43c8-8e38-f1de796404bb",
   "metadata": {},
   "outputs": [
    {
     "name": "stdout",
     "output_type": "stream",
     "text": [
      "5 é maior que 3\n"
     ]
    }
   ],
   "source": [
    "if 5>3:\n",
    "    print('5 é maior que 3')"
   ]
  },
  {
   "cell_type": "code",
   "execution_count": 68,
   "id": "4d5910b3-e136-4367-9cdc-76bd72927144",
   "metadata": {},
   "outputs": [
    {
     "name": "stdout",
     "output_type": "stream",
     "text": [
      "5 é maior\n"
     ]
    }
   ],
   "source": [
    "if 5>4:\n",
    "    print('5 é maior')\n",
    "else:\n",
    "    print('não é maior')"
   ]
  },
  {
   "cell_type": "code",
   "execution_count": 76,
   "id": "eddb2a9c-536e-46d3-ba23-cd42f987e655",
   "metadata": {},
   "outputs": [
    {
     "name": "stdout",
     "output_type": "stream",
     "text": [
      "não é igual a 4 nem a 3\n"
     ]
    }
   ],
   "source": [
    "n=9\n",
    "\n",
    "if n==4:\n",
    "    print('n é igual a 4')\n",
    "else:\n",
    "    if n==3:\n",
    "        print('n é igual a 3')\n",
    "    else:\n",
    "        print('não é igual a 4 nem a 3')"
   ]
  },
  {
   "cell_type": "code",
   "execution_count": 78,
   "id": "659f2040-a28a-4627-8894-d9df9c036527",
   "metadata": {},
   "outputs": [
    {
     "name": "stdout",
     "output_type": "stream",
     "text": [
      "uma ou nenhuma das condições foram satisfeitas\n"
     ]
    }
   ],
   "source": [
    "x=1\n",
    "y=5\n",
    "\n",
    "if(x>1) or (y<3):\n",
    "    print(\"x é maior que 1 e y menor que 3\")\n",
    "else:\n",
    "    print(\"uma ou nenhuma das condições foram satisfeitas\")"
   ]
  },
  {
   "cell_type": "markdown",
   "id": "87550eb4-203c-45b6-894a-91bf4294e0ce",
   "metadata": {},
   "source": [
    "**Exercicios**"
   ]
  },
  {
   "cell_type": "markdown",
   "id": "81882d79-958b-4196-ae3c-0668ddc31a8b",
   "metadata": {},
   "source": [
    "**3-**"
   ]
  },
  {
   "cell_type": "code",
   "execution_count": 95,
   "id": "c74c3b2b-759a-4cb4-ab8e-e2428d2c9056",
   "metadata": {},
   "outputs": [
    {
     "name": "stdin",
     "output_type": "stream",
     "text": [
      "Qual a sua idade? 18\n"
     ]
    },
    {
     "name": "stdout",
     "output_type": "stream",
     "text": [
      "Voce é adulto\n"
     ]
    }
   ],
   "source": [
    "idade=int(input(\"Qual a sua idade?\"))\n",
    "\n",
    "if idade<=12:\n",
    "    print(\"Você é criança\")\n",
    "elif idade<=17:\n",
    "    print(\"Você é adolescente\")\n",
    "elif idade>=18:\n",
    "    print(\"Voce é adulto\")"
   ]
  },
  {
   "cell_type": "markdown",
   "id": "513486c7-6bb2-4f40-854b-d7da70b40db2",
   "metadata": {},
   "source": [
    "**4-**"
   ]
  },
  {
   "cell_type": "code",
   "execution_count": 113,
   "id": "4c8489e2-f3c2-4b57-a1cf-7153dee04472",
   "metadata": {},
   "outputs": [
    {
     "name": "stdin",
     "output_type": "stream",
     "text": [
      "Nota 01: 5\n",
      "Nota 02: 6\n",
      "Nota 03: 6\n"
     ]
    },
    {
     "name": "stdout",
     "output_type": "stream",
     "text": [
      "O aluno pegou exame\n"
     ]
    },
    {
     "name": "stdin",
     "output_type": "stream",
     "text": [
      "Nota do exame: 6\n"
     ]
    },
    {
     "name": "stdout",
     "output_type": "stream",
     "text": [
      "o aluno esta reprovado\n"
     ]
    }
   ],
   "source": [
    "M1=float(input(\"Nota 01:\"))\n",
    "M2=float(input(\"Nota 02:\"))\n",
    "M3=float(input(\"Nota 03:\"))\n",
    "\n",
    "media=(( M1 + M2 + M3 )/3)\n",
    "\n",
    "if media <= 4:\n",
    "    print(\"O aluno está reprovado\")\n",
    "elif media <=6:\n",
    "    print(\"O aluno pegou exame\")\n",
    "    exame = float(input(\"Adicione a nota do  exame:\"))\n",
    "    if exame > 6:\n",
    "        print(\"O aluno está aprovado\")\n",
    "    else:\n",
    "        print(\"o aluno esta reprovado\")\n",
    "elif media > 6:\n",
    "    print(\"O aluno esta aprovado\")\n"
   ]
  },
  {
   "cell_type": "markdown",
   "id": "5f80bdc6-9f94-4de5-8d7f-90885c13a70b",
   "metadata": {},
   "source": [
    "**Estrutura de repetição FOR**"
   ]
  },
  {
   "cell_type": "code",
   "execution_count": 115,
   "id": "5900cb6a-4179-4f93-9efd-9a08bf153d5a",
   "metadata": {},
   "outputs": [
    {
     "name": "stdout",
     "output_type": "stream",
     "text": [
      "1\n",
      "2\n",
      "3\n",
      "4\n",
      "5\n"
     ]
    }
   ],
   "source": [
    "for i in range(1,6):\n",
    "    print(i)"
   ]
  },
  {
   "cell_type": "code",
   "execution_count": 117,
   "id": "cb049611-1ed2-4ba0-9826-662eca5b945d",
   "metadata": {},
   "outputs": [
    {
     "name": "stdout",
     "output_type": "stream",
     "text": [
      "5\n",
      "4\n",
      "3\n",
      "2\n",
      "1\n"
     ]
    }
   ],
   "source": [
    "for numero in range(5,0,-1):\n",
    "    print(numero)"
   ]
  },
  {
   "cell_type": "code",
   "execution_count": 119,
   "id": "0b1412a1-6d69-41c1-a2d8-9a907f498375",
   "metadata": {},
   "outputs": [
    {
     "name": "stdout",
     "output_type": "stream",
     "text": [
      "s\n",
      "o\n",
      "r\n",
      "v\n",
      "e\n",
      "t\n",
      "e\n"
     ]
    }
   ],
   "source": [
    "palavra = 'sorvete'\n",
    "\n",
    "for letra in palavra:\n",
    "    print(letra)"
   ]
  },
  {
   "cell_type": "code",
   "execution_count": 121,
   "id": "7488251c-ee6e-497f-9172-c3e3243c6905",
   "metadata": {},
   "outputs": [
    {
     "name": "stdout",
     "output_type": "stream",
     "text": [
      "achei a letra\n"
     ]
    }
   ],
   "source": [
    "palavra2 = 'casquinha'\n",
    "\n",
    "for letra2 in palavra2:\n",
    "    if letra2 == 'c':\n",
    "         print('achei a letra')"
   ]
  }
 ],
 "metadata": {
  "kernelspec": {
   "display_name": "Python 3 (ipykernel)",
   "language": "python",
   "name": "python3"
  },
  "language_info": {
   "codemirror_mode": {
    "name": "ipython",
    "version": 3
   },
   "file_extension": ".py",
   "mimetype": "text/x-python",
   "name": "python",
   "nbconvert_exporter": "python",
   "pygments_lexer": "ipython3",
   "version": "3.12.7"
  }
 },
 "nbformat": 4,
 "nbformat_minor": 5
}
