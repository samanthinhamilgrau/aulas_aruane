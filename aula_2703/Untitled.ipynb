{
 "cells": [
  {
   "cell_type": "code",
   "execution_count": 3,
   "id": "dc11fa8c-c72d-4282-8b60-50f11f88cba1",
   "metadata": {},
   "outputs": [
    {
     "name": "stdout",
     "output_type": "stream",
     "text": [
      "Requirement already satisfied: pymongo in c:\\users\\samantha alves\\anaconda3\\lib\\site-packages (4.11.3)Note: you may need to restart the kernel to use updated packages.\n",
      "\n",
      "Requirement already satisfied: dnspython<3.0.0,>=1.16.0 in c:\\users\\samantha alves\\anaconda3\\lib\\site-packages (from pymongo) (2.7.0)\n"
     ]
    }
   ],
   "source": [
    "pip install pymongo"
   ]
  },
  {
   "cell_type": "code",
   "execution_count": 4,
   "id": "de64d0eb-446a-4d35-a0fc-e8fdac42d602",
   "metadata": {},
   "outputs": [],
   "source": [
    "from pymongo import MongoClient"
   ]
  },
  {
   "cell_type": "code",
   "execution_count": 5,
   "id": "94634f76-6eb5-408a-853c-1aae782f8510",
   "metadata": {},
   "outputs": [],
   "source": [
    "import gridfs"
   ]
  },
  {
   "cell_type": "code",
   "execution_count": 6,
   "id": "92eb1b85-351d-43de-8073-316ef1eacc1f",
   "metadata": {},
   "outputs": [
    {
     "name": "stdout",
     "output_type": "stream",
     "text": [
      "Arquivo enviado com ID: 67e9c2cd882cc66d8ea079b4\n"
     ]
    }
   ],
   "source": [
    "client = MongoClient(\"mongodb://localhost:27017/\")\n",
    "db = client[\"meuBanco\"]\n",
    "fs = gridfs.GridFS(db)\n",
    "\n",
    "with open(\"video.mp4\", \"rb\") as f:\n",
    "    file_id = fs.put(f, filename=\"video.mp4\")\n",
    "\n",
    "print(\"Arquivo enviado com ID:\", file_id)"
   ]
  },
  {
   "cell_type": "code",
   "execution_count": 9,
   "id": "55636bd2-0b36-447f-bf17-baa119645a10",
   "metadata": {},
   "outputs": [
    {
     "name": "stdout",
     "output_type": "stream",
     "text": [
      "Arquivo recuperado e salvo com sucesso!\n"
     ]
    }
   ],
   "source": [
    "from pymongo import MongoClient\n",
    "import gridfs\n",
    "from bson import ObjectId  # Importação necessária\n",
    "\n",
    "# Conectar ao MongoDB\n",
    "client = MongoClient(\"mongodb://localhost:27017/\")\n",
    "db = client[\"meuBanco\"]\n",
    "fs = gridfs.GridFS(db)\n",
    "\n",
    "# Buscar o arquivo usando o file_id (ObjectId)\n",
    "file_id = ObjectId(\"67e9c2cd882cc66d8ea079b4\")  # Coloque o seu ObjectId aqui\n",
    "\n",
    "# Recuperar o arquivo\n",
    "file = fs.get(file_id)\n",
    "\n",
    "# Salvar o arquivo no seu computador\n",
    "with open(\"video_recuperado.mp4\", \"wb\") as f:\n",
    "    f.write(file.read())  # Escreve o conteúdo do arquivo recuperado\n",
    "\n",
    "print(\"Arquivo recuperado e salvo com sucesso!\")\n"
   ]
  },
  {
   "cell_type": "code",
   "execution_count": null,
   "id": "2ead8fb4-321f-45fb-9976-0ab55e86171f",
   "metadata": {},
   "outputs": [],
   "source": []
  }
 ],
 "metadata": {
  "kernelspec": {
   "display_name": "Python 3 (ipykernel)",
   "language": "python",
   "name": "python3"
  },
  "language_info": {
   "codemirror_mode": {
    "name": "ipython",
    "version": 3
   },
   "file_extension": ".py",
   "mimetype": "text/x-python",
   "name": "python",
   "nbconvert_exporter": "python",
   "pygments_lexer": "ipython3",
   "version": "3.12.7"
  }
 },
 "nbformat": 4,
 "nbformat_minor": 5
}
