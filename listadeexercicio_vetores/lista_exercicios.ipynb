{
 "cells": [
  {
   "cell_type": "markdown",
   "id": "848b3444-c3ed-4583-b390-162c141ab456",
   "metadata": {},
   "source": [
    "**Lista de exercicio**"
   ]
  },
  {
   "cell_type": "markdown",
   "id": "f0dc3a8a-6bc4-4efd-bc6e-53db9869e2a1",
   "metadata": {},
   "source": [
    "**1- Enunciado: Crie uma lista vazia e use o método append para adicionar o número 10. Em\n",
    "seguida, imprima a lista.**"
   ]
  },
  {
   "cell_type": "code",
   "execution_count": 1,
   "id": "b8a19238-d9d0-4a66-9ec6-3cf101c1907a",
   "metadata": {},
   "outputs": [
    {
     "name": "stdin",
     "output_type": "stream",
     "text": [
      "Digite um valor para adicionar às listas:  10\n"
     ]
    },
    {
     "name": "stdout",
     "output_type": "stream",
     "text": [
      "[10]\n"
     ]
    }
   ],
   "source": [
    "lista = []\n",
    "\n",
    "valor = int(input(\"Digite um valor para adicionar às listas: \"))\n",
    "\n",
    "lista.append(valor)\n",
    "\n",
    "print(lista)"
   ]
  },
  {
   "cell_type": "markdown",
   "id": "822a9946-14ea-43f7-b46a-36cfdd80c7c6",
   "metadata": {},
   "source": [
    "**2- Enunciado: Crie uma lista vazia e use append para adicionar os números 5, 3, 8, 6 e 1.\n",
    "Imprima a lista resultante.**"
   ]
  },
  {
   "cell_type": "code",
   "execution_count": 3,
   "id": "0a18722c-f41b-4e2f-898c-c858a099cbe6",
   "metadata": {},
   "outputs": [
    {
     "name": "stdin",
     "output_type": "stream",
     "text": [
      "Digite o 1º número:  5\n",
      "Digite o 2º número:  8\n",
      "Digite o 3º número:  3\n",
      "Digite o 4º número:  6\n",
      "Digite o 5º número:  1\n"
     ]
    },
    {
     "name": "stdout",
     "output_type": "stream",
     "text": [
      "[5, 8, 3, 6, 1]\n"
     ]
    }
   ],
   "source": [
    "lista2 = []\n",
    "\n",
    "for i in range(5):\n",
    "    num = int(input(f\"Digite o {i+1}º número: \"))\n",
    "    lista2.append(num)\n",
    "\n",
    "print(lista2)"
   ]
  },
  {
   "cell_type": "markdown",
   "id": "7e014ed2-978f-42b0-b71a-3324fda47a94",
   "metadata": {},
   "source": [
    "**3- Enunciado: Crie uma função que receba uma lista e um valor, insira o valor usando\n",
    "append e retorne a lista atualizada.**"
   ]
  },
  {
   "cell_type": "code",
   "execution_count": 4,
   "id": "726e4d1c-a46c-44b3-9e16-d27dcf95beb8",
   "metadata": {},
   "outputs": [
    {
     "name": "stdout",
     "output_type": "stream",
     "text": [
      "Essa é a sua lista: [0, 1, 2, 3, 4]\n"
     ]
    },
    {
     "name": "stdin",
     "output_type": "stream",
     "text": [
      "Agora digite um valor para adicionar na sua lista:  4\n"
     ]
    },
    {
     "name": "stdout",
     "output_type": "stream",
     "text": [
      "Essa é a sua lista atualizada: [0, 1, 2, 3, 4, 4]\n"
     ]
    }
   ],
   "source": [
    "lista3 = []\n",
    "\n",
    "for i in range(5):\n",
    "    lista3.append(i)\n",
    "\n",
    "print(f\"Essa é a sua lista: {lista3}\")\n",
    "\n",
    "valor = int(input(\"Agora digite um valor para adicionar na sua lista: \"))\n",
    "\n",
    "lista3.append(valor)\n",
    "\n",
    "print(f\"Essa é a sua lista atualizada: {lista3}\")"
   ]
  },
  {
   "cell_type": "markdown",
   "id": "c6d08b03-1b7e-41fb-866f-c5c0c68a2e8a",
   "metadata": {},
   "source": [
    "**4- Enunciado: Crie uma função que faça pesquisa linear em uma lista e retorne o índice\n",
    "do elemento se encontrado ou -1 se não estiver presente.**"
   ]
  },
  {
   "cell_type": "code",
   "execution_count": 6,
   "id": "cd735563-302f-44e7-850e-4824db9a85f4",
   "metadata": {},
   "outputs": [
    {
     "name": "stdin",
     "output_type": "stream",
     "text": [
      "Digite o valor a ser pesquisado:  3\n"
     ]
    },
    {
     "name": "stdout",
     "output_type": "stream",
     "text": [
      "Valor encontrado no índice 1.\n"
     ]
    }
   ],
   "source": [
    "def pesquisa_linear(lista, valor):\n",
    "    for i in range(len(lista)): \n",
    "        if lista[i] == valor:  \n",
    "            return i\n",
    "    return -1  \n",
    "\n",
    "lista = [5, 3, 8, 6, 1]\n",
    "valor = int(input(\"Digite o valor a ser pesquisado: \"))\n",
    "\n",
    "indice = pesquisa_linear(lista, valor)\n",
    "\n",
    "if indice != -1:\n",
    "    print(f\"Valor encontrado no índice {indice}.\")\n",
    "else:\n",
    "    print(\"Valor não encontrado na lista: -1\")\n"
   ]
  },
  {
   "cell_type": "markdown",
   "id": "d7006b5b-2a31-4858-abf1-eaac7c3b04f4",
   "metadata": {},
   "source": [
    "**5- Enunciado: Crie uma função que remova a primeira ocorrência de um elemento de\n",
    "uma lista sem utilizar o método remove.**"
   ]
  },
  {
   "cell_type": "code",
   "execution_count": 7,
   "id": "9145f2e3-84e8-47ca-87dc-92e6e9735aa8",
   "metadata": {},
   "outputs": [
    {
     "name": "stdout",
     "output_type": "stream",
     "text": [
      "[5, 3, 8, 6, 1]\n"
     ]
    },
    {
     "name": "stdin",
     "output_type": "stream",
     "text": [
      "Digite a posição que deseja deletar 2\n"
     ]
    },
    {
     "name": "stdout",
     "output_type": "stream",
     "text": [
      "[5, 3, 6, 1]\n"
     ]
    }
   ],
   "source": [
    "lista4 = [5, 3, 8, 6, 1]\n",
    "print(lista4)\n",
    "\n",
    "def remover():\n",
    "    valor = int(input(\"Digite a posição que deseja deletar\"))\n",
    "    del(lista4[valor])\n",
    "\n",
    "remover()\n",
    "\n",
    "print(lista4)"
   ]
  },
  {
   "cell_type": "markdown",
   "id": "c6915dea-61f8-4153-b017-5e5d62072c4f",
   "metadata": {},
   "source": [
    "**6- Enunciado: Crie uma função que insira um elemento em uma lista ordenada,\n",
    "mantendo a ordem sem usar sort.**"
   ]
  },
  {
   "cell_type": "code",
   "execution_count": 1,
   "id": "aa49e0ee-f069-4045-8b1e-206bdd85200e",
   "metadata": {},
   "outputs": [
    {
     "name": "stdout",
     "output_type": "stream",
     "text": [
      "[1, 3, 5, 6, 8]\n"
     ]
    },
    {
     "name": "stdin",
     "output_type": "stream",
     "text": [
      "Digite o numero que voce que inserir 5.2\n"
     ]
    },
    {
     "name": "stdout",
     "output_type": "stream",
     "text": [
      "[1, 3, 5, 5.2, 6, 8]\n"
     ]
    }
   ],
   "source": [
    "import bisect\n",
    "\n",
    "lista5 = [5, 3, 8, 6, 1]\n",
    "\n",
    "result = []\n",
    "for e in lista5:\n",
    "    bisect.insort(result, e)\n",
    "\n",
    "print(result)\n",
    "\n",
    "def inserir():\n",
    "    valor = float(input(\"Digite o numero que voce que inserir\"))\n",
    "    bisect.insort(result, valor)\n",
    "\n",
    "inserir()\n",
    "\n",
    "print(result)"
   ]
  },
  {
   "cell_type": "markdown",
   "id": "38dea872-cce0-4f65-92ac-1a4c9eab0e56",
   "metadata": {},
   "source": [
    "**7.Enunciado: Crie uma lista vazia e, usando um loop, insira os números de 1 a 10 usando\n",
    "append.**"
   ]
  },
  {
   "cell_type": "code",
   "execution_count": 2,
   "id": "de08661b-d77c-4a9d-85c6-395724737a2a",
   "metadata": {},
   "outputs": [
    {
     "name": "stdout",
     "output_type": "stream",
     "text": [
      "Essa é a sua lista: [1, 2, 3, 4, 5, 6, 7, 8, 9, 10]\n"
     ]
    }
   ],
   "source": [
    "lista6 = []\n",
    "\n",
    "def loop():\n",
    "    for i in range(1,11):\n",
    "        lista6.append(i)\n",
    "\n",
    "loop()\n",
    "\n",
    "print(f\"Essa é a sua lista: {lista6}\")"
   ]
  },
  {
   "cell_type": "markdown",
   "id": "b0cad2b8-3cf1-43b8-b7e3-a1cd59f10bb6",
   "metadata": {},
   "source": [
    "**8.Enunciado: Crie uma função que inverta uma lista sem usar o método reverse.**"
   ]
  },
  {
   "cell_type": "code",
   "execution_count": 8,
   "id": "476705f0-a3f9-4b95-9aba-c598fbe21d75",
   "metadata": {},
   "outputs": [
    {
     "name": "stdout",
     "output_type": "stream",
     "text": [
      "[4, 5, 2, 3, 1]\n"
     ]
    }
   ],
   "source": [
    "lista7 = [1, 3, 2, 5, 4]\n",
    "\n",
    "def loop():\n",
    "    lista_invertida = lista7[::-1]\n",
    "    print(lista_invertida)  # A impressão ocorre dentro da função\n",
    "\n",
    "loop()  # Chamando a função para executar"
   ]
  },
  {
   "cell_type": "markdown",
   "id": "be7488fc-3837-4338-a28f-f3c45d450161",
   "metadata": {},
   "source": [
    "**9.Enunciado: Crie uma função que receba uma lista e retorne a soma de todos os seus\n",
    "elementos.**"
   ]
  },
  {
   "cell_type": "code",
   "execution_count": 9,
   "id": "5955e36f-8db0-4c99-9d91-23f3740ca719",
   "metadata": {},
   "outputs": [
    {
     "name": "stdin",
     "output_type": "stream",
     "text": [
      "Digite o 1º número:  5\n",
      "Digite o 2º número:  7\n",
      "Digite o 3º número:  6\n",
      "Digite o 4º número:  9\n",
      "Digite o 5º número:  10\n"
     ]
    },
    {
     "name": "stdout",
     "output_type": "stream",
     "text": [
      "A soma dos números é: 37\n"
     ]
    }
   ],
   "source": [
    "def somar_lista():\n",
    "    lista8 = []\n",
    "\n",
    "    for i in range(5):\n",
    "        num = int(input(f\"Digite o {i+1}º número: \"))\n",
    "        lista8.append(num)\n",
    "\n",
    "    soma = sum(lista8)\n",
    "    print(f\"A soma dos números é: {soma}\")\n",
    "\n",
    "somar_lista()"
   ]
  },
  {
   "cell_type": "markdown",
   "id": "620ec91e-9eba-43c8-a5f1-b14d1096787c",
   "metadata": {},
   "source": [
    "**10.Enunciado: Crie uma função que encontre e retorne o maior elemento de uma lista.**"
   ]
  },
  {
   "cell_type": "code",
   "execution_count": 10,
   "id": "2b60ba77-b859-4955-828e-65ec7e1ee5fd",
   "metadata": {},
   "outputs": [
    {
     "name": "stdin",
     "output_type": "stream",
     "text": [
      "Digite o 1º número:  1\n",
      "Digite o 2º número:  2\n",
      "Digite o 3º número:  3\n",
      "Digite o 4º número:  4\n",
      "Digite o 5º número:  5\n"
     ]
    },
    {
     "name": "stdout",
     "output_type": "stream",
     "text": [
      "O maior número da lista é: 5\n"
     ]
    }
   ],
   "source": [
    "def maior_lista():\n",
    "    lista9 = []\n",
    "\n",
    "    for i in range(5):\n",
    "        num = int(input(f\"Digite o {i+1}º número: \"))\n",
    "        lista9.append(num)\n",
    "\n",
    "    maior = lista9[0]  \n",
    "\n",
    "    for num in lista9:\n",
    "        if num > maior:\n",
    "            maior = num\n",
    "\n",
    "    print(f\"O maior número da lista é: {maior}\")\n",
    "\n",
    "maior_lista()"
   ]
  },
  {
   "cell_type": "markdown",
   "id": "1626dfc5-22e6-44dc-8343-068d0143b625",
   "metadata": {},
   "source": [
    "**11.Enunciado: Crie uma função que encontre e retorne o menor elemento de uma lista**"
   ]
  },
  {
   "cell_type": "code",
   "execution_count": 11,
   "id": "e53c5051-eff8-430a-b122-e99e92fdfbb5",
   "metadata": {},
   "outputs": [
    {
     "name": "stdin",
     "output_type": "stream",
     "text": [
      "Digite o 1º número:  1\n",
      "Digite o 2º número:  2\n",
      "Digite o 3º número:  3\n",
      "Digite o 4º número:  4\n",
      "Digite o 5º número:  5\n"
     ]
    },
    {
     "name": "stdout",
     "output_type": "stream",
     "text": [
      "O menor número da lista é: 1\n"
     ]
    }
   ],
   "source": [
    "def menor_lista():\n",
    "    lista10 = []\n",
    "\n",
    "    for i in range(5):\n",
    "        num = int(input(f\"Digite o {i+1}º número: \"))\n",
    "        lista10.append(num)\n",
    "\n",
    "    menor = lista10[0]  \n",
    "\n",
    "    for num in lista10:\n",
    "        if num < menor:\n",
    "            menor = num\n",
    "\n",
    "    print(f\"O menor número da lista é: {menor}\")\n",
    "\n",
    "menor_lista()"
   ]
  },
  {
   "cell_type": "markdown",
   "id": "2d6bc6a6-9285-4b5c-b326-457ef403af02",
   "metadata": {},
   "source": [
    "**12. Enunciado: Crie uma função que conte quantas vezes um dado elemento aparece em\n",
    "uma lista**"
   ]
  },
  {
   "cell_type": "code",
   "execution_count": null,
   "id": "dfa658e9-6eaa-46c6-bd1c-cde20c05ff44",
   "metadata": {},
   "outputs": [],
   "source": []
  },
  {
   "cell_type": "markdown",
   "id": "f83f524d-8463-4033-b033-566288d95186",
   "metadata": {},
   "source": [
    "**13. Enunciado: Crie uma função que retorne uma nova lista contendo apenas os números\n",
    "pares de uma lista dada.**"
   ]
  },
  {
   "cell_type": "code",
   "execution_count": 25,
   "id": "5155847c-c3d8-4651-9f9f-48f988816b4a",
   "metadata": {},
   "outputs": [
    {
     "name": "stdin",
     "output_type": "stream",
     "text": [
      "Digite o 1º número:  1\n",
      "Digite o 2º número:  2\n",
      "Digite o 3º número:  3\n",
      "Digite o 4º número:  4\n",
      "Digite o 5º número:  5\n",
      "Digite o 6º número:  6\n",
      "Digite o 7º número:  7\n",
      "Digite o 8º número:  8\n",
      "Digite o 9º número:  9\n",
      "Digite o 10º número:  10\n",
      "Digite o 11º número:  11\n",
      "Digite o 12º número:  12\n",
      "Digite o 13º número:  13\n",
      "Digite o 14º número:  14\n",
      "Digite o 15º número:  15\n",
      "Digite o 16º número:  16\n",
      "Digite o 17º número:  17\n",
      "Digite o 18º número:  1819\n",
      "Digite o 19º número:  20\n",
      "Digite o 20º número:  21\n"
     ]
    },
    {
     "name": "stdout",
     "output_type": "stream",
     "text": [
      "Números pares digitados: [2, 4, 6, 8, 10, 12, 14, 16, 20]\n"
     ]
    }
   ],
   "source": [
    "def pares_listas():\n",
    "    lista11 = []\n",
    "    pares = []\n",
    "\n",
    "    for i in range(20):\n",
    "        num = int(input(f\"Digite o {i+1}º número: \"))\n",
    "        lista11.append(num)\n",
    "        \n",
    "        if num % 2 == 0:  # Verifica se o número é par diretamente\n",
    "            pares.append(num)\n",
    "\n",
    "    print(\"Números pares digitados:\", pares)  # Imprime a lista de pares apenas no final\n",
    "\n",
    "pares_listas()\n"
   ]
  },
  {
   "cell_type": "code",
   "execution_count": null,
   "id": "08638940-1f15-46b6-bbc0-47daf33ead6e",
   "metadata": {},
   "outputs": [],
   "source": []
  },
  {
   "cell_type": "markdown",
   "id": "3c09b22a-388c-4c68-97e8-847949ffe1bb",
   "metadata": {},
   "source": [
    "**14.Enunciado: Crie uma função que retorne uma nova lista com o quadrado de cada\n",
    "elemento da lista original.**"
   ]
  },
  {
   "cell_type": "code",
   "execution_count": null,
   "id": "00846ba0-1916-45d7-b517-5f824142df97",
   "metadata": {},
   "outputs": [],
   "source": []
  }
 ],
 "metadata": {
  "kernelspec": {
   "display_name": "Python 3 (ipykernel)",
   "language": "python",
   "name": "python3"
  },
  "language_info": {
   "codemirror_mode": {
    "name": "ipython",
    "version": 3
   },
   "file_extension": ".py",
   "mimetype": "text/x-python",
   "name": "python",
   "nbconvert_exporter": "python",
   "pygments_lexer": "ipython3",
   "version": "3.12.7"
  }
 },
 "nbformat": 4,
 "nbformat_minor": 5
}
