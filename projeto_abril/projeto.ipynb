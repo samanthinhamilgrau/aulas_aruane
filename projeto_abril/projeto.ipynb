{
 "cells": [
  {
   "cell_type": "code",
   "execution_count": 12,
   "id": "ee35f133-3acc-40b2-80df-f61cef2490c3",
   "metadata": {},
   "outputs": [
    {
     "name": "stdin",
     "output_type": "stream",
     "text": [
      "Digite o nome do cliente: joao\n"
     ]
    },
    {
     "name": "stdout",
     "output_type": "stream",
     "text": [
      "['joao']\n"
     ]
    }
   ],
   "source": [
    "fila_preferencial = []\n",
    "fila_normal = []\n",
    "\n",
    "def adicionar_cliente():\n",
    "    p1 = input(\"Digite o nome do cliente:\" )\n",
    "    fila_normal.append(p1)\n",
    "\n",
    "adicionar_cliente()\n",
    "\n",
    "print(fila_normal)\n",
    "\n",
    "#Menu \n",
    "#print(\"\\033[1mBem-vindo ao sistema de atendimento bancário!\\033[0m\")\n",
    "\n",
    "#print(\"1 - Adicionar cliente\")\n",
    "#print(\"2 - Atender cliente\")\n",
    "#print(\"3 - Exibir filas\")\n",
    "#print(\"4 - Exibir histórico de atendimentos\")\n",
    "#print(\"5 - Sair\")\n",
    "\n",
    "\n"
   ]
  },
  {
   "cell_type": "code",
   "execution_count": null,
   "id": "c09e8e23-bc4f-4f88-bf84-6466a371580c",
   "metadata": {},
   "outputs": [],
   "source": []
  }
 ],
 "metadata": {
  "kernelspec": {
   "display_name": "Python 3 (ipykernel)",
   "language": "python",
   "name": "python3"
  },
  "language_info": {
   "codemirror_mode": {
    "name": "ipython",
    "version": 3
   },
   "file_extension": ".py",
   "mimetype": "text/x-python",
   "name": "python",
   "nbconvert_exporter": "python",
   "pygments_lexer": "ipython3",
   "version": "3.12.7"
  }
 },
 "nbformat": 4,
 "nbformat_minor": 5
}
