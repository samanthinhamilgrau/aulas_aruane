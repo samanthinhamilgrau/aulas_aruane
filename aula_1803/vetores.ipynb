{
 "cells": [
  {
   "cell_type": "code",
   "execution_count": 3,
   "id": "0760e7f5-94a5-409c-afdd-9167547b5c67",
   "metadata": {},
   "outputs": [
    {
     "name": "stdout",
     "output_type": "stream",
     "text": [
      "Vetor Ordenado: [1, 2, 3, 4, 5, 6, 7, 8, 9, 10]\n",
      "Vetor Não Ordenado: [7, 3, 9, 1, 10, 5, 8, 2, 6, 4]\n"
     ]
    }
   ],
   "source": [
    "# Vetor ordenado\n",
    "vetor_ordenado = [1, 2, 3, 4, 5, 6, 7, 8, 9, 10]\n",
    "\n",
    "# Vetor não ordenado\n",
    "vetor_nao_ordenado = [7, 3, 9, 1, 10, 5, 8, 2, 6, 4]\n",
    "\n",
    "# Exibindo os vetores\n",
    "print(\"Vetor Ordenado:\", vetor_ordenado)\n",
    "print(\"Vetor Não Ordenado:\", vetor_nao_ordenado)\n"
   ]
  },
  {
   "cell_type": "code",
   "execution_count": 4,
   "id": "8e2b52e5-124f-41bd-b90d-f67ff09b30cd",
   "metadata": {
    "scrolled": true
   },
   "outputs": [
    {
     "name": "stdin",
     "output_type": "stream",
     "text": [
      "Digite um valor para adicionar às listas:  10\n"
     ]
    },
    {
     "name": "stdout",
     "output_type": "stream",
     "text": [
      "Vetor Ordenado: [1, 2, 3, 4, 5, 6, 7, 8, 9, 10, 10]\n",
      "Vetor Não Ordenado: [7, 3, 9, 1, 10, 5, 8, 2, 6, 4, 10]\n"
     ]
    }
   ],
   "source": [
    "valor = int(input(\"Digite um valor para adicionar às listas: \"))\n",
    "\n",
    "# Adicionando à lista não ordenada (simplesmente inserimos)\n",
    "vetor_nao_ordenado.append(valor)\n",
    "\n",
    "# Adicionando à lista ordenada na posição correta\n",
    "vetor_ordenado.append(valor)\n",
    "vetor_ordenado.sort()  # Mantemos a ordem\n",
    "\n",
    "print(\"Vetor Ordenado:\", vetor_ordenado)\n",
    "print(\"Vetor Não Ordenado:\", vetor_nao_ordenado)"
   ]
  },
  {
   "cell_type": "code",
   "execution_count": 5,
   "id": "9c23e32f-6e8f-44ff-870f-9930d9e5e352",
   "metadata": {},
   "outputs": [
    {
     "name": "stdin",
     "output_type": "stream",
     "text": [
      "Digite um valor para remover das listas:  5\n"
     ]
    },
    {
     "name": "stdout",
     "output_type": "stream",
     "text": [
      "Vetor Ordenado: [1, 2, 3, 4, 6, 7, 8, 9, 10, 10]\n",
      "Vetor Não Ordenado: [7, 3, 9, 1, 10, 8, 2, 6, 4, 10]\n"
     ]
    }
   ],
   "source": [
    "valor = int(input(\"Digite um valor para remover das listas: \"))\n",
    "\n",
    "# Removendo das listas, se existir\n",
    "if valor in vetor_ordenado:\n",
    "    vetor_ordenado.remove(valor)\n",
    "else:\n",
    "    print(\"Valor não encontrado no vetor ordenado.\")\n",
    "\n",
    "if valor in vetor_nao_ordenado:\n",
    "    vetor_nao_ordenado.remove(valor)\n",
    "else:\n",
    "    print(\"Valor não encontrado no vetor não ordenado.\")\n",
    "\n",
    "print(\"Vetor Ordenado:\", vetor_ordenado)\n",
    "print(\"Vetor Não Ordenado:\", vetor_nao_ordenado)"
   ]
  },
  {
   "cell_type": "code",
   "execution_count": 7,
   "id": "22c534c2-ec1f-4cb9-b600-0fb87758de91",
   "metadata": {},
   "outputs": [
    {
     "name": "stdin",
     "output_type": "stream",
     "text": [
      "Digite um valor para pesquisar nas listas:  4\n"
     ]
    },
    {
     "name": "stdout",
     "output_type": "stream",
     "text": [
      "O valor 4 foi encontrado no vetor ordenado.\n",
      "O valor 4 foi encontrado no vetor não ordenado.\n"
     ]
    }
   ],
   "source": [
    "valor = int(input(\"Digite um valor para pesquisar nas listas: \"))\n",
    "\n",
    "# Verificando se o valor está presente nas listas\n",
    "if valor in vetor_ordenado:\n",
    "    print(f\"O valor {valor} foi encontrado no vetor ordenado.\")\n",
    "else:\n",
    "    print(f\"O valor {valor} NÃO foi encontrado no vetor ordenado.\")\n",
    "\n",
    "if valor in vetor_nao_ordenado:\n",
    "    print(f\"O valor {valor} foi encontrado no vetor não ordenado.\")\n",
    "else:\n",
    "    print(f\"O valor {valor} NÃO foi encontrado no vetor não ordenado.\")"
   ]
  },
  {
   "cell_type": "markdown",
   "id": "ce8b320d-89ef-4b29-9e7d-5be154a14288",
   "metadata": {},
   "source": [
    "**Lista de exercicio**"
   ]
  },
  {
   "cell_type": "markdown",
   "id": "4bbec88d-e132-4c6b-b14c-6a28a63833c0",
   "metadata": {},
   "source": [
    "**1- Enunciado: Crie uma lista vazia e use o método append para adicionar o número 10. Em\n",
    "seguida, imprima a lista.**"
   ]
  },
  {
   "cell_type": "code",
   "execution_count": 8,
   "id": "b1947403-3e55-403f-b32e-be7e53946c44",
   "metadata": {},
   "outputs": [
    {
     "name": "stdin",
     "output_type": "stream",
     "text": [
      "Digite um valor para adicionar às listas:  10\n"
     ]
    },
    {
     "name": "stdout",
     "output_type": "stream",
     "text": [
      "[10]\n"
     ]
    }
   ],
   "source": [
    "lista = []\n",
    "\n",
    "valor = int(input(\"Digite um valor para adicionar às listas: \"))\n",
    "\n",
    "lista.append(valor)\n",
    "\n",
    "print(lista)"
   ]
  },
  {
   "cell_type": "markdown",
   "id": "7ce86cd8-ec9c-4194-984e-57aac2e10860",
   "metadata": {},
   "source": [
    "**2- Enunciado: Crie uma lista vazia e use append para adicionar os números 5, 3, 8, 6 e 1.\n",
    "Imprima a lista resultante.**"
   ]
  },
  {
   "cell_type": "code",
   "execution_count": 14,
   "id": "34f903f1-ce1c-42b8-9cc3-db0fb15bfe7f",
   "metadata": {},
   "outputs": [
    {
     "name": "stdin",
     "output_type": "stream",
     "text": [
      "Digite o 1º número:  5\n",
      "Digite o 2º número:  8\n",
      "Digite o 3º número:  3\n",
      "Digite o 4º número:  6\n",
      "Digite o 5º número:  1\n"
     ]
    },
    {
     "name": "stdout",
     "output_type": "stream",
     "text": [
      "[5, 8, 3, 6, 1]\n"
     ]
    }
   ],
   "source": [
    "lista2 = []\n",
    "\n",
    "for i in range(5):\n",
    "    num = int(input(f\"Digite o {i+1}º número: \"))\n",
    "    lista2.append(num)\n",
    "\n",
    "print(lista2)"
   ]
  },
  {
   "cell_type": "markdown",
   "id": "3269277d-55d7-4f4e-aa8c-01c6976d2c89",
   "metadata": {},
   "source": [
    "**3- Enunciado: Crie uma função que receba uma lista e um valor, insira o valor usando\n",
    "append e retorne a lista atualizada.**"
   ]
  },
  {
   "cell_type": "code",
   "execution_count": 55,
   "id": "46c8af8e-f358-40d8-98c7-7dda973cf769",
   "metadata": {},
   "outputs": [
    {
     "name": "stdout",
     "output_type": "stream",
     "text": [
      "Essa é a sua lista: [0, 1, 2, 3, 4]\n"
     ]
    },
    {
     "name": "stdin",
     "output_type": "stream",
     "text": [
      "Agora digite um valor para adicionar na sua lista:  10\n"
     ]
    },
    {
     "name": "stdout",
     "output_type": "stream",
     "text": [
      "Essa é a sua lista atualizada: [0, 1, 2, 3, 4, 10]\n"
     ]
    }
   ],
   "source": [
    "lista3 = []\n",
    "\n",
    "for i in range(5):\n",
    "    lista3.append(i)\n",
    "\n",
    "print(f\"Essa é a sua lista: {lista3}\")\n",
    "\n",
    "valor = int(input(\"Agora digite um valor para adicionar na sua lista: \"))\n",
    "\n",
    "lista3.append(valor)\n",
    "\n",
    "print(f\"Essa é a sua lista atualizada: {lista3}\")"
   ]
  },
  {
   "cell_type": "markdown",
   "id": "e08bba71-2314-4e6e-b49d-b800be5d56c7",
   "metadata": {},
   "source": [
    "**4- Enunciado: Crie uma função que faça pesquisa linear em uma lista e retorne o índice\n",
    "do elemento se encontrado ou -1 se não estiver presente.**"
   ]
  },
  {
   "cell_type": "code",
   "execution_count": 56,
   "id": "b592bb57-53bd-4036-a3df-e7f624662f97",
   "metadata": {},
   "outputs": [
    {
     "name": "stdin",
     "output_type": "stream",
     "text": [
      "Digite o valor a ser pesquisado:  2\n"
     ]
    },
    {
     "name": "stdout",
     "output_type": "stream",
     "text": [
      "Valor não encontrado na lista: -1\n"
     ]
    }
   ],
   "source": [
    "def pesquisa_linear(lista, valor):\n",
    "    for i in range(len(lista)): \n",
    "        if lista[i] == valor:  \n",
    "            return i\n",
    "    return -1  \n",
    "\n",
    "lista = [5, 3, 8, 6, 1]\n",
    "valor = int(input(\"Digite o valor a ser pesquisado: \"))\n",
    "\n",
    "indice = pesquisa_linear(lista, valor)\n",
    "\n",
    "if indice != -1:\n",
    "    print(f\"Valor encontrado no índice {indice}.\")\n",
    "else:\n",
    "    print(\"Valor não encontrado na lista: -1\")\n"
   ]
  },
  {
   "cell_type": "markdown",
   "id": "bc0841a3-9d05-433d-983d-a320a3de0bf2",
   "metadata": {},
   "source": [
    "**5- Enunciado: Crie uma função que remova a primeira ocorrência de um elemento de\n",
    "uma lista sem utilizar o método remove.**"
   ]
  },
  {
   "cell_type": "code",
   "execution_count": 31,
   "id": "8a00e887-97e6-444a-b13c-95357e67a0e6",
   "metadata": {},
   "outputs": [
    {
     "name": "stdout",
     "output_type": "stream",
     "text": [
      "[5, 3, 8, 6, 1]\n"
     ]
    },
    {
     "name": "stdin",
     "output_type": "stream",
     "text": [
      "Digite a posição que deseja deletar 2\n"
     ]
    },
    {
     "name": "stdout",
     "output_type": "stream",
     "text": [
      "[5, 3, 6, 1]\n"
     ]
    }
   ],
   "source": [
    "lista4 = [5, 3, 8, 6, 1]\n",
    "print(lista4)\n",
    "\n",
    "def remover():\n",
    "    valor = int(input(\"Digite a posição que deseja deletar\"))\n",
    "    del(lista4[valor])\n",
    "\n",
    "remover()\n",
    "\n",
    "print(lista4)"
   ]
  },
  {
   "cell_type": "markdown",
   "id": "c865d422-e0a6-4540-b724-6130d07e5eaf",
   "metadata": {},
   "source": [
    "**6- Enunciado: Crie uma função que insira um elemento em uma lista ordenada,\n",
    "mantendo a ordem sem usar sort.**"
   ]
  },
  {
   "cell_type": "code",
   "execution_count": 46,
   "id": "1e0e9525-3b2b-4e1e-810e-4913a89046e1",
   "metadata": {},
   "outputs": [
    {
     "name": "stdout",
     "output_type": "stream",
     "text": [
      "[1, 3, 5, 6, 8]\n"
     ]
    },
    {
     "name": "stdin",
     "output_type": "stream",
     "text": [
      "Digite o numero que voce que inserir 1.5\n"
     ]
    },
    {
     "name": "stdout",
     "output_type": "stream",
     "text": [
      "[1, 1.5, 3, 5, 6, 8]\n"
     ]
    }
   ],
   "source": [
    "import bisect\n",
    "\n",
    "lista5 = [5, 3, 8, 6, 1]\n",
    "\n",
    "result = []\n",
    "for e in lista5:\n",
    "    bisect.insort(result, e)\n",
    "\n",
    "print(result)\n",
    "\n",
    "def inserir():\n",
    "    valor = float(input(\"Digite o numero que voce que inserir\"))\n",
    "    bisect.insort(result, valor)\n",
    "\n",
    "inserir()\n",
    "\n",
    "print(result)"
   ]
  },
  {
   "cell_type": "markdown",
   "id": "cd420b19-5a75-4ae0-ae88-4aa03f352234",
   "metadata": {},
   "source": [
    "**7.Enunciado: Crie uma lista vazia e, usando um loop, insira os números de 1 a 10 usando\n",
    "append.**"
   ]
  },
  {
   "cell_type": "code",
   "execution_count": 14,
   "id": "a457645a-5977-42ae-9caf-ab4dcc7678af",
   "metadata": {},
   "outputs": [
    {
     "name": "stdout",
     "output_type": "stream",
     "text": [
      "Essa é a sua lista: [1, 2, 3, 4, 5, 6, 7, 8, 9, 10]\n"
     ]
    }
   ],
   "source": [
    "lista6 = []\n",
    "\n",
    "def loop():\n",
    "    for i in range(1,11):\n",
    "        lista6.append(i)\n",
    "\n",
    "loop()\n",
    "\n",
    "print(f\"Essa é a sua lista: {lista6}\")"
   ]
  },
  {
   "cell_type": "markdown",
   "id": "c17d8ab3-26ca-44eb-878a-568589458c12",
   "metadata": {},
   "source": [
    "**8.Enunciado: Crie uma função que inverta uma lista sem usar o método reverse.**"
   ]
  },
  {
   "cell_type": "code",
   "execution_count": 2,
   "id": "3d8c94f5-527c-4712-9643-9e08e0c4eba4",
   "metadata": {},
   "outputs": [
    {
     "name": "stdout",
     "output_type": "stream",
     "text": [
      "[4, 5, 2, 3, 1]\n"
     ]
    }
   ],
   "source": [
    "lista7 = [1, 3, 2, 5, 4]\n",
    "\n",
    "def loop():\n",
    "    lista_invertida = lista7[::-1]\n",
    "    print(lista_invertida)  # A impressão ocorre dentro da função\n",
    "\n",
    "loop()  # Chamando a função para executar"
   ]
  },
  {
   "cell_type": "markdown",
   "id": "789c3604-82c8-4f34-8ad6-a4b0aa44c375",
   "metadata": {},
   "source": [
    "**9.Enunciado: Crie uma função que receba uma lista e retorne a soma de todos os seus\n",
    "elementos.**"
   ]
  },
  {
   "cell_type": "code",
   "execution_count": 28,
   "id": "427f418b-86f9-4309-8ff4-e3b028066ee9",
   "metadata": {},
   "outputs": [
    {
     "name": "stdin",
     "output_type": "stream",
     "text": [
      "Digite o 1º número:  1\n",
      "Digite o 2º número:  1\n",
      "Digite o 3º número:  1\n",
      "Digite o 4º número:  1\n",
      "Digite o 5º número:  1\n"
     ]
    },
    {
     "name": "stdout",
     "output_type": "stream",
     "text": [
      "A soma dos números é: 5\n"
     ]
    }
   ],
   "source": [
    "def somar_lista():\n",
    "    lista8 = []\n",
    "\n",
    "    for i in range(5):\n",
    "        num = int(input(f\"Digite o {i+1}º número: \"))\n",
    "        lista8.append(num)\n",
    "\n",
    "    soma = sum(lista8)\n",
    "    print(f\"A soma dos números é: {soma}\")\n",
    "\n",
    "somar_lista()"
   ]
  },
  {
   "cell_type": "markdown",
   "id": "b5bcc29a-d996-44e0-9e90-492b49d95f9d",
   "metadata": {},
   "source": [
    "**10.Enunciado: Crie uma função que encontre e retorne o maior elemento de uma lista.**"
   ]
  },
  {
   "cell_type": "code",
   "execution_count": 38,
   "id": "f604e80f-21d6-41ce-aa2e-5bbfc29a8ad4",
   "metadata": {},
   "outputs": [
    {
     "name": "stdin",
     "output_type": "stream",
     "text": [
      "Digite o 1º número:  1\n",
      "Digite o 2º número:  2\n",
      "Digite o 3º número:  3\n",
      "Digite o 4º número:  4\n",
      "Digite o 5º número:  5\n"
     ]
    },
    {
     "name": "stdout",
     "output_type": "stream",
     "text": [
      "O maior número da lista é: 5\n"
     ]
    }
   ],
   "source": [
    "def maior_lista():\n",
    "    lista9 = []\n",
    "\n",
    "    for i in range(5):\n",
    "        num = int(input(f\"Digite o {i+1}º número: \"))\n",
    "        lista9.append(num)\n",
    "\n",
    "    maior = lista9[0]  \n",
    "\n",
    "    for num in lista9:\n",
    "        if num > maior:\n",
    "            maior = num\n",
    "\n",
    "    print(f\"O maior número da lista é: {maior}\")\n",
    "\n",
    "maior_lista()"
   ]
  },
  {
   "cell_type": "markdown",
   "id": "cfd7e5aa-ee84-492c-90d6-f4598d2c07d9",
   "metadata": {},
   "source": [
    "**11.Enunciado: Crie uma função que encontre e retorne o menor elemento de uma lista**"
   ]
  },
  {
   "cell_type": "code",
   "execution_count": 41,
   "id": "d4f68942-7f07-4548-8319-804446d0f4c4",
   "metadata": {},
   "outputs": [
    {
     "name": "stdin",
     "output_type": "stream",
     "text": [
      "Digite o 1º número:  1\n",
      "Digite o 2º número:  2\n",
      "Digite o 3º número:  3\n",
      "Digite o 4º número:  4\n",
      "Digite o 5º número:  5\n"
     ]
    },
    {
     "name": "stdout",
     "output_type": "stream",
     "text": [
      "O menor número da lista é: 1\n"
     ]
    }
   ],
   "source": [
    "def menor_lista():\n",
    "    lista10 = []\n",
    "\n",
    "    for i in range(5):\n",
    "        num = int(input(f\"Digite o {i+1}º número: \"))\n",
    "        lista10.append(num)\n",
    "\n",
    "    menor = lista10[0]  \n",
    "\n",
    "    for num in lista10:\n",
    "        if num < menor:\n",
    "            menor = num\n",
    "\n",
    "    print(f\"O menor número da lista é: {menor}\")\n",
    "\n",
    "menor_lista()"
   ]
  },
  {
   "cell_type": "code",
   "execution_count": 65,
   "id": "d2b4b9a2-3430-435b-8783-1537d70fccb6",
   "metadata": {},
   "outputs": [],
   "source": [
    "def exercicio4(lista, valor):\n",
    "    for i in range(len(lista)):\n",
    "        if lista[i] == valor:\n",
    "            return i\n",
    "    return -1\n"
   ]
  },
  {
   "cell_type": "code",
   "execution_count": 66,
   "id": "3833f6bc-dbc1-4b36-b3fd-4aba30060191",
   "metadata": {},
   "outputs": [
    {
     "name": "stdout",
     "output_type": "stream",
     "text": [
      "1\n"
     ]
    }
   ],
   "source": [
    "print(exercicio4([1, 2, 3, 4], 2))  # Vai imprimir 1 (posição do número 2)\n"
   ]
  },
  {
   "cell_type": "code",
   "execution_count": null,
   "id": "cc7d9db9-e868-44eb-b270-d1283a5bffd2",
   "metadata": {},
   "outputs": [],
   "source": []
  }
 ],
 "metadata": {
  "kernelspec": {
   "display_name": "Python 3 (ipykernel)",
   "language": "python",
   "name": "python3"
  },
  "language_info": {
   "codemirror_mode": {
    "name": "ipython",
    "version": 3
   },
   "file_extension": ".py",
   "mimetype": "text/x-python",
   "name": "python",
   "nbconvert_exporter": "python",
   "pygments_lexer": "ipython3",
   "version": "3.12.7"
  }
 },
 "nbformat": 4,
 "nbformat_minor": 5
}
